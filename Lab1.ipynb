{
 "cells": [
  {
   "cell_type": "markdown",
   "metadata": {},
   "source": [
    "## Lab 1 - Analyzing Real Estate log sessions\n",
    "We have data from Yandex.Realty classified https://realty.yandex.ru containing real estate user sessions logs. In thуыу lab your main goal is to explore this sessions and extract some knowledge from them. \n",
    "For datasets like this it becomes hard to use Excel because of its size. If you learn how to work with pandas you'll be able to do basic analytical research much faster than in Excel. To execute code IPython notebook click on the Cell and press Shift-Enter. If you don't have any experience with Jupyter notebooks, please look at this tutorial: https://mybinder.org/v2/gh/ipython/ipython-in-depth/master?filepath=binder/Index.ipynb\n",
    "\n",
    "### Main objectives\n",
    "After successful completion of the lab work students will be able to:\n",
    "\n",
    "- Analyze large datasets that don't work well in Excel using IPython notebook and pandas library\n",
    "- Extract data for product metrics from logs\n",
    "- Build new metrics which are important for product growth\n",
    "### Tasks\n",
    "- Make base exploratory data analysis (https://www.kaggle.com/pmarcelino/comprehensive-data-exploration-with-python) \n",
    "- Find % of calls by different realty types\n",
    "- Find % of empty searches and why\n",
    "- Analyze platform distribution "
   ]
  },
  {
   "cell_type": "code",
   "execution_count": 1,
   "metadata": {},
   "outputs": [],
   "source": [
    "# let's import pandas library and set options to be able to view data right in the browser\n",
    "# Assign pd for a short alias for pandas library\n",
    "import pandas as pd\n",
    "# Call set_option function fron pandas library to edit them limit for number of the displayed\n",
    "# columns, width of all columns and maximum width of one column\n",
    "pd.set_option('display.max_columns', 500)\n",
    "pd.set_option('display.width', 1000)\n",
    "pd.set_option('display.max_colwidth', 1000)"
   ]
  },
  {
   "cell_type": "code",
   "execution_count": 2,
   "metadata": {},
   "outputs": [],
   "source": [
    "###Let's import additional libraries\n",
    "import matplotlib.pyplot as plt\n",
    "import seaborn as sns\n",
    "import numpy as np\n",
    "import warnings\n",
    "warnings.filterwarnings('ignore')\n",
    "\n",
    "%matplotlib inline"
   ]
  },
  {
   "cell_type": "code",
   "execution_count": 3,
   "metadata": {},
   "outputs": [],
   "source": [
    "import pandas as pd\n",
    "import matplotlib.pyplot as plt\n",
    "import seaborn as sns\n",
    "import numpy as np\n",
    "from scipy.stats import norm\n",
    "from sklearn.preprocessing import StandardScaler\n",
    "from scipy import stats\n",
    "import warnings\n",
    "warnings.filterwarnings('ignore')\n",
    "%matplotlib inline"
   ]
  },
  {
   "cell_type": "code",
   "execution_count": 4,
   "metadata": {},
   "outputs": [],
   "source": [
    "\n",
    "df = pd.read_table(r'C:\\Users\\asd\\Desktop\\user_sessions_export.tsv')"
   ]
  },
  {
   "cell_type": "code",
   "execution_count": 5,
   "metadata": {},
   "outputs": [
    {
     "data": {
      "text/plain": [
       "(78436, 37)"
      ]
     },
     "execution_count": 5,
     "metadata": {},
     "output_type": "execute_result"
    }
   ],
   "source": [
    "#Explore dataframe shapes\n",
    "df.shape"
   ]
  },
  {
   "cell_type": "code",
   "execution_count": 6,
   "metadata": {},
   "outputs": [
    {
     "data": {
      "text/html": [
       "<div>\n",
       "<style scoped>\n",
       "    .dataframe tbody tr th:only-of-type {\n",
       "        vertical-align: middle;\n",
       "    }\n",
       "\n",
       "    .dataframe tbody tr th {\n",
       "        vertical-align: top;\n",
       "    }\n",
       "\n",
       "    .dataframe thead th {\n",
       "        text-align: right;\n",
       "    }\n",
       "</style>\n",
       "<table border=\"1\" class=\"dataframe\">\n",
       "  <thead>\n",
       "    <tr style=\"text-align: right;\">\n",
       "      <th></th>\n",
       "      <th>card_view_type</th>\n",
       "      <th>room_rooms_offered</th>\n",
       "      <th>site_id</th>\n",
       "      <th>offer_category</th>\n",
       "      <th>garage_type</th>\n",
       "      <th>query_text</th>\n",
       "      <th>anonymized_user_id</th>\n",
       "      <th>total_results</th>\n",
       "      <th>rgid</th>\n",
       "      <th>house_type</th>\n",
       "      <th>primary_sale</th>\n",
       "      <th>client_type</th>\n",
       "      <th>apartment_rooms_total</th>\n",
       "      <th>rent_price</th>\n",
       "      <th>parking_type</th>\n",
       "      <th>apartment_total_area</th>\n",
       "      <th>rereferer</th>\n",
       "      <th>event_type</th>\n",
       "      <th>timestamp</th>\n",
       "      <th>apartment_flat_type</th>\n",
       "      <th>query_id</th>\n",
       "      <th>offer_type</th>\n",
       "      <th>commercial_type_list</th>\n",
       "      <th>fastlink</th>\n",
       "      <th>title</th>\n",
       "      <th>subject_federation_id</th>\n",
       "      <th>pricing_period</th>\n",
       "      <th>web_referer</th>\n",
       "      <th>offer_id</th>\n",
       "      <th>developer_id_list</th>\n",
       "      <th>event_place</th>\n",
       "      <th>revoked</th>\n",
       "      <th>apartment_floor</th>\n",
       "      <th>village_id</th>\n",
       "      <th>page_number</th>\n",
       "      <th>sell_price</th>\n",
       "      <th>room_rooms_total</th>\n",
       "    </tr>\n",
       "  </thead>\n",
       "  <tbody>\n",
       "    <tr>\n",
       "      <th>0</th>\n",
       "      <td>USED</td>\n",
       "      <td>1.0</td>\n",
       "      <td>NaN</td>\n",
       "      <td>ROOMS</td>\n",
       "      <td>NaN</td>\n",
       "      <td>50759f78c459038f9772ba023b9f711f</td>\n",
       "      <td>ac395e970bd92e6dac60576914f40431</td>\n",
       "      <td>0</td>\n",
       "      <td>417899.0</td>\n",
       "      <td>NaN</td>\n",
       "      <td>NaN</td>\n",
       "      <td>TOUCH_PAD</td>\n",
       "      <td>NaN</td>\n",
       "      <td>13500.0</td>\n",
       "      <td>NaN</td>\n",
       "      <td>NaN</td>\n",
       "      <td>https://realty.yandex.ru/sankt-peterburg/snyat/komnata/?subLocality=417975&amp;page=1</td>\n",
       "      <td>CARD_SHOW</td>\n",
       "      <td>1598358743000000</td>\n",
       "      <td>NaN</td>\n",
       "      <td>50759f78c459038f9772ba023b9f711f</td>\n",
       "      <td>RENT</td>\n",
       "      <td>NaN</td>\n",
       "      <td>False</td>\n",
       "      <td>NaN</td>\n",
       "      <td>10174.0</td>\n",
       "      <td>PRICING_PERIOD_UNKNOWN</td>\n",
       "      <td>https://realty.yandex.ru/offer/6053180953082735872/?isExact=YES</td>\n",
       "      <td>6.053181e+18</td>\n",
       "      <td>NaN</td>\n",
       "      <td>CARD_TOP</td>\n",
       "      <td>False</td>\n",
       "      <td>NaN</td>\n",
       "      <td>NaN</td>\n",
       "      <td>0</td>\n",
       "      <td>NaN</td>\n",
       "      <td>5.0</td>\n",
       "    </tr>\n",
       "    <tr>\n",
       "      <th>1</th>\n",
       "      <td>UNKNOWN</td>\n",
       "      <td>NaN</td>\n",
       "      <td>NaN</td>\n",
       "      <td>OFFER_CATEGORY_UNKNOWN</td>\n",
       "      <td>NaN</td>\n",
       "      <td>93684c83d8f27359373157f92e33ce8c</td>\n",
       "      <td>12205865945ca3f9545080d9b268b98f</td>\n",
       "      <td>38</td>\n",
       "      <td>NaN</td>\n",
       "      <td>NaN</td>\n",
       "      <td>NaN</td>\n",
       "      <td>TOUCH_PHONE</td>\n",
       "      <td>NaN</td>\n",
       "      <td>NaN</td>\n",
       "      <td>NaN</td>\n",
       "      <td>NaN</td>\n",
       "      <td>https://m.realty.yandex.ru/sankt-peterburg/kupit/novostrojka/novaya-ohta-2145/?from=yandex_wizard_maps&amp;roomsTotal=2</td>\n",
       "      <td>SEARCH_SHOW</td>\n",
       "      <td>1598382056000000</td>\n",
       "      <td>NaN</td>\n",
       "      <td>93684c83d8f27359373157f92e33ce8c</td>\n",
       "      <td>OFFER_TYPE_UNKNOWN</td>\n",
       "      <td>NaN</td>\n",
       "      <td>True</td>\n",
       "      <td>1 комната</td>\n",
       "      <td>NaN</td>\n",
       "      <td>NaN</td>\n",
       "      <td>https://m.realty.yandex.ru/sankt-peterburg/kupit/kvartira/dvuhkomnatnaya/?siteId=2145&amp;primarySale=NO</td>\n",
       "      <td>NaN</td>\n",
       "      <td>NaN</td>\n",
       "      <td>UNKNOWN</td>\n",
       "      <td>False</td>\n",
       "      <td>NaN</td>\n",
       "      <td>NaN</td>\n",
       "      <td>0</td>\n",
       "      <td>NaN</td>\n",
       "      <td>NaN</td>\n",
       "    </tr>\n",
       "    <tr>\n",
       "      <th>2</th>\n",
       "      <td>USED</td>\n",
       "      <td>1.0</td>\n",
       "      <td>NaN</td>\n",
       "      <td>ROOMS</td>\n",
       "      <td>NaN</td>\n",
       "      <td>d3be00de046fdbdd2a2b5d64dc7d01b7</td>\n",
       "      <td>9bd0f7b1c5d39ed35e0f3dbfabda91f1</td>\n",
       "      <td>0</td>\n",
       "      <td>417899.0</td>\n",
       "      <td>NaN</td>\n",
       "      <td>NaN</td>\n",
       "      <td>DESKTOP</td>\n",
       "      <td>NaN</td>\n",
       "      <td>15000.0</td>\n",
       "      <td>NaN</td>\n",
       "      <td>NaN</td>\n",
       "      <td>https://realty.yandex.ru/sankt-peterburg/snyat/komnata/karta/?utm_source=main_stripe_big&amp;leftLongitude=30.240695&amp;topLatitude=59.946513&amp;rightLongitude=30.303008&amp;bottomLatitude=59.934068&amp;zoom=15&amp;activePoint=59.935013%2C30.270548</td>\n",
       "      <td>CARD_SHOW</td>\n",
       "      <td>1598303939000000</td>\n",
       "      <td>NaN</td>\n",
       "      <td>d3be00de046fdbdd2a2b5d64dc7d01b7</td>\n",
       "      <td>RENT</td>\n",
       "      <td>NaN</td>\n",
       "      <td>False</td>\n",
       "      <td>NaN</td>\n",
       "      <td>10174.0</td>\n",
       "      <td>PRICING_PERIOD_UNKNOWN</td>\n",
       "      <td>https://realty.yandex.ru/offer/2873837982416659969/?isExact=YES</td>\n",
       "      <td>2.873838e+18</td>\n",
       "      <td>NaN</td>\n",
       "      <td>CARD_TOP</td>\n",
       "      <td>False</td>\n",
       "      <td>NaN</td>\n",
       "      <td>NaN</td>\n",
       "      <td>0</td>\n",
       "      <td>NaN</td>\n",
       "      <td>3.0</td>\n",
       "    </tr>\n",
       "    <tr>\n",
       "      <th>3</th>\n",
       "      <td>UNKNOWN</td>\n",
       "      <td>NaN</td>\n",
       "      <td>NaN</td>\n",
       "      <td>OFFER_CATEGORY_UNKNOWN</td>\n",
       "      <td>NaN</td>\n",
       "      <td>0a128a65f5a0b46c63b775c7cb8ed143</td>\n",
       "      <td>f9e6354e22bedcc4cc77c5ff0cf78de6</td>\n",
       "      <td>1828</td>\n",
       "      <td>417899.0</td>\n",
       "      <td>NaN</td>\n",
       "      <td>NaN</td>\n",
       "      <td>TOUCH_PHONE</td>\n",
       "      <td>NaN</td>\n",
       "      <td>NaN</td>\n",
       "      <td>NaN</td>\n",
       "      <td>NaN</td>\n",
       "      <td>https://m.realty.yandex.ru/sankt-peterburg/snyat/kvartira/dvuhkomnatnaya/?cardIndex=19&amp;isExact=YES&amp;page=4&amp;sort=PRICE</td>\n",
       "      <td>SEARCH_SHOW</td>\n",
       "      <td>1598352595000000</td>\n",
       "      <td>NaN</td>\n",
       "      <td>0a128a65f5a0b46c63b775c7cb8ed143</td>\n",
       "      <td>OFFER_TYPE_UNKNOWN</td>\n",
       "      <td>NaN</td>\n",
       "      <td>False</td>\n",
       "      <td>NaN</td>\n",
       "      <td>0.0</td>\n",
       "      <td>NaN</td>\n",
       "      <td>https://m.realty.yandex.ru/sankt-peterburg/snyat/kvartira/dvuhkomnatnaya/?cardIndex=19&amp;isExact=YES&amp;page=5&amp;sort=PRICE</td>\n",
       "      <td>NaN</td>\n",
       "      <td>NaN</td>\n",
       "      <td>LISTING</td>\n",
       "      <td>False</td>\n",
       "      <td>NaN</td>\n",
       "      <td>NaN</td>\n",
       "      <td>5</td>\n",
       "      <td>NaN</td>\n",
       "      <td>NaN</td>\n",
       "    </tr>\n",
       "    <tr>\n",
       "      <th>4</th>\n",
       "      <td>USED</td>\n",
       "      <td>NaN</td>\n",
       "      <td>NaN</td>\n",
       "      <td>APARTMENT</td>\n",
       "      <td>NaN</td>\n",
       "      <td>2e20edcf02c3a12be6bed4c0b47033a9</td>\n",
       "      <td>114e45ee149da8be73ae5b051c9292c3</td>\n",
       "      <td>0</td>\n",
       "      <td>417899.0</td>\n",
       "      <td>NaN</td>\n",
       "      <td>False</td>\n",
       "      <td>DESKTOP</td>\n",
       "      <td>2.0</td>\n",
       "      <td>NaN</td>\n",
       "      <td>NaN</td>\n",
       "      <td>44.5</td>\n",
       "      <td>https://realty.yandex.ru/sankt-peterburg/kupit/kvartira/dvuhkomnatnaya/?subLocality=417979&amp;metroGeoId=20319&amp;priceMax=4650000&amp;metroTransport=ON_FOOT&amp;timeToMetro=20</td>\n",
       "      <td>CARD_SHOW</td>\n",
       "      <td>1598364660000000</td>\n",
       "      <td>FLAT_TYPE_SECONDARY</td>\n",
       "      <td>2e20edcf02c3a12be6bed4c0b47033a9</td>\n",
       "      <td>SELL</td>\n",
       "      <td>NaN</td>\n",
       "      <td>False</td>\n",
       "      <td>NaN</td>\n",
       "      <td>10174.0</td>\n",
       "      <td>NaN</td>\n",
       "      <td>https://realty.yandex.ru/offer/5439578279210637569/?isExact=NO</td>\n",
       "      <td>5.439578e+18</td>\n",
       "      <td>NaN</td>\n",
       "      <td>CARD_TOP</td>\n",
       "      <td>False</td>\n",
       "      <td>0.0</td>\n",
       "      <td>NaN</td>\n",
       "      <td>0</td>\n",
       "      <td>4680000.0</td>\n",
       "      <td>NaN</td>\n",
       "    </tr>\n",
       "  </tbody>\n",
       "</table>\n",
       "</div>"
      ],
      "text/plain": [
       "  card_view_type  room_rooms_offered  site_id          offer_category garage_type                        query_text                anonymized_user_id  total_results      rgid house_type primary_sale  client_type  apartment_rooms_total  rent_price parking_type  apartment_total_area                                                                                                                                                                                                                           rereferer   event_type         timestamp  apartment_flat_type                          query_id          offer_type commercial_type_list  fastlink      title  subject_federation_id          pricing_period                                                                                                           web_referer      offer_id  developer_id_list event_place  revoked  apartment_floor  village_id  page_number  sell_price  room_rooms_total\n",
       "0           USED                 1.0      NaN                   ROOMS         NaN  50759f78c459038f9772ba023b9f711f  ac395e970bd92e6dac60576914f40431              0  417899.0        NaN          NaN    TOUCH_PAD                    NaN     13500.0          NaN                   NaN                                                                                                                                                   https://realty.yandex.ru/sankt-peterburg/snyat/komnata/?subLocality=417975&page=1    CARD_SHOW  1598358743000000                  NaN  50759f78c459038f9772ba023b9f711f                RENT                  NaN     False        NaN                10174.0  PRICING_PERIOD_UNKNOWN                                                       https://realty.yandex.ru/offer/6053180953082735872/?isExact=YES  6.053181e+18                NaN    CARD_TOP    False              NaN         NaN            0         NaN               5.0\n",
       "1        UNKNOWN                 NaN      NaN  OFFER_CATEGORY_UNKNOWN         NaN  93684c83d8f27359373157f92e33ce8c  12205865945ca3f9545080d9b268b98f             38       NaN        NaN          NaN  TOUCH_PHONE                    NaN         NaN          NaN                   NaN                                                                                                                 https://m.realty.yandex.ru/sankt-peterburg/kupit/novostrojka/novaya-ohta-2145/?from=yandex_wizard_maps&roomsTotal=2  SEARCH_SHOW  1598382056000000                  NaN  93684c83d8f27359373157f92e33ce8c  OFFER_TYPE_UNKNOWN                  NaN      True  1 комната                    NaN                     NaN                  https://m.realty.yandex.ru/sankt-peterburg/kupit/kvartira/dvuhkomnatnaya/?siteId=2145&primarySale=NO           NaN                NaN     UNKNOWN    False              NaN         NaN            0         NaN               NaN\n",
       "2           USED                 1.0      NaN                   ROOMS         NaN  d3be00de046fdbdd2a2b5d64dc7d01b7  9bd0f7b1c5d39ed35e0f3dbfabda91f1              0  417899.0        NaN          NaN      DESKTOP                    NaN     15000.0          NaN                   NaN  https://realty.yandex.ru/sankt-peterburg/snyat/komnata/karta/?utm_source=main_stripe_big&leftLongitude=30.240695&topLatitude=59.946513&rightLongitude=30.303008&bottomLatitude=59.934068&zoom=15&activePoint=59.935013%2C30.270548    CARD_SHOW  1598303939000000                  NaN  d3be00de046fdbdd2a2b5d64dc7d01b7                RENT                  NaN     False        NaN                10174.0  PRICING_PERIOD_UNKNOWN                                                       https://realty.yandex.ru/offer/2873837982416659969/?isExact=YES  2.873838e+18                NaN    CARD_TOP    False              NaN         NaN            0         NaN               3.0\n",
       "3        UNKNOWN                 NaN      NaN  OFFER_CATEGORY_UNKNOWN         NaN  0a128a65f5a0b46c63b775c7cb8ed143  f9e6354e22bedcc4cc77c5ff0cf78de6           1828  417899.0        NaN          NaN  TOUCH_PHONE                    NaN         NaN          NaN                   NaN                                                                                                                https://m.realty.yandex.ru/sankt-peterburg/snyat/kvartira/dvuhkomnatnaya/?cardIndex=19&isExact=YES&page=4&sort=PRICE  SEARCH_SHOW  1598352595000000                  NaN  0a128a65f5a0b46c63b775c7cb8ed143  OFFER_TYPE_UNKNOWN                  NaN     False        NaN                    0.0                     NaN  https://m.realty.yandex.ru/sankt-peterburg/snyat/kvartira/dvuhkomnatnaya/?cardIndex=19&isExact=YES&page=5&sort=PRICE           NaN                NaN     LISTING    False              NaN         NaN            5         NaN               NaN\n",
       "4           USED                 NaN      NaN               APARTMENT         NaN  2e20edcf02c3a12be6bed4c0b47033a9  114e45ee149da8be73ae5b051c9292c3              0  417899.0        NaN        False      DESKTOP                    2.0         NaN          NaN                  44.5                                                                  https://realty.yandex.ru/sankt-peterburg/kupit/kvartira/dvuhkomnatnaya/?subLocality=417979&metroGeoId=20319&priceMax=4650000&metroTransport=ON_FOOT&timeToMetro=20    CARD_SHOW  1598364660000000  FLAT_TYPE_SECONDARY  2e20edcf02c3a12be6bed4c0b47033a9                SELL                  NaN     False        NaN                10174.0                     NaN                                                        https://realty.yandex.ru/offer/5439578279210637569/?isExact=NO  5.439578e+18                NaN    CARD_TOP    False              0.0         NaN            0   4680000.0               NaN"
      ]
     },
     "execution_count": 6,
     "metadata": {},
     "output_type": "execute_result"
    }
   ],
   "source": [
    "#And look into it's structure\n",
    "df.head()"
   ]
  },
  {
   "cell_type": "code",
   "execution_count": 7,
   "metadata": {},
   "outputs": [
    {
     "data": {
      "text/plain": [
       "Index(['card_view_type', 'room_rooms_offered', 'site_id', 'offer_category', 'garage_type', 'query_text', 'anonymized_user_id', 'total_results', 'rgid', 'house_type', 'primary_sale', 'client_type', 'apartment_rooms_total', 'rent_price', 'parking_type', 'apartment_total_area', 'rereferer', 'event_type', 'timestamp', 'apartment_flat_type', 'query_id', 'offer_type', 'commercial_type_list', 'fastlink', 'title', 'subject_federation_id', 'pricing_period', 'web_referer', 'offer_id', 'developer_id_list', 'event_place', 'revoked', 'apartment_floor', 'village_id', 'page_number', 'sell_price', 'room_rooms_total'], dtype='object')"
      ]
     },
     "execution_count": 7,
     "metadata": {},
     "output_type": "execute_result"
    }
   ],
   "source": [
    "df.columns"
   ]
  },
  {
   "cell_type": "markdown",
   "metadata": {},
   "source": [
    "# Here is the description of some our features and some of them not:\n",
    "\n",
    "|  Name  | Description \n",
    "|---         |---       \n",
    "| **card_view_type** | realty type in card \n",
    "| **room_rooms_offered** | quantity of rooms\n",
    "| **site_id** | quantity of rooms\n",
    "| **total_results** | quantity of results for 1 query\n",
    "| **rgid** | region_id\n",
    "| **primary_sale** | sale agent\n",
    "| **event_type** | log event type\n",
    "| **apartment_flat_type** | new or old flat\n",
    "| **query_id** | session id for one search\n",
    "| **offer_type** | SELL or RENT\n",
    "| **event_place** | interface part where was done this action\n",
    "\n",
    "\n",
    "\n"
   ]
  },
  {
   "cell_type": "code",
   "execution_count": 8,
   "metadata": {},
   "outputs": [],
   "source": [
    "#Let's clean dirty data from logs or useless features\n",
    "df.drop([\"rereferer\", \"fastlink\",\"title\",\"subject_federation_id\",\"developer_id_list\",\"revoked\"], axis = 1, inplace = True)"
   ]
  },
  {
   "cell_type": "code",
   "execution_count": 9,
   "metadata": {},
   "outputs": [
    {
     "name": "stdout",
     "output_type": "stream",
     "text": [
      "<class 'pandas.core.frame.DataFrame'>\n",
      "RangeIndex: 78436 entries, 0 to 78435\n",
      "Data columns (total 31 columns):\n",
      "card_view_type           78436 non-null object\n",
      "room_rooms_offered       1874 non-null float64\n",
      "site_id                  10530 non-null float64\n",
      "offer_category           78436 non-null object\n",
      "garage_type              35 non-null object\n",
      "query_text               78436 non-null object\n",
      "anonymized_user_id       78436 non-null object\n",
      "total_results            78436 non-null int64\n",
      "rgid                     67645 non-null float64\n",
      "house_type               3690 non-null object\n",
      "primary_sale             19450 non-null object\n",
      "client_type              78436 non-null object\n",
      "apartment_rooms_total    23226 non-null float64\n",
      "rent_price               11464 non-null float64\n",
      "parking_type             35 non-null object\n",
      "apartment_total_area     23226 non-null float64\n",
      "event_type               78436 non-null object\n",
      "timestamp                78436 non-null int64\n",
      "apartment_flat_type      23226 non-null object\n",
      "query_id                 78436 non-null object\n",
      "offer_type               78436 non-null object\n",
      "commercial_type_list     854 non-null object\n",
      "pricing_period           11464 non-null object\n",
      "web_referer              78436 non-null object\n",
      "offer_id                 33050 non-null float64\n",
      "event_place              78436 non-null object\n",
      "apartment_floor          23226 non-null float64\n",
      "village_id               468 non-null float64\n",
      "page_number              78436 non-null int64\n",
      "sell_price               19450 non-null float64\n",
      "room_rooms_total         1874 non-null float64\n",
      "dtypes: float64(11), int64(3), object(17)\n",
      "memory usage: 18.6+ MB\n"
     ]
    }
   ],
   "source": [
    "df.info()"
   ]
  },
  {
   "cell_type": "code",
   "execution_count": 10,
   "metadata": {},
   "outputs": [
    {
     "data": {
      "text/plain": [
       "SEARCH_SHOW    45253\n",
       "CARD_SHOW      32159\n",
       "PHONE_SHOW      1024\n",
       "Name: event_type, dtype: int64"
      ]
     },
     "execution_count": 10,
     "metadata": {},
     "output_type": "execute_result"
    }
   ],
   "source": [
    "#And split dataset into 3 parts (SEARCH, CARD_SHOW, PHONE_SHOW)\n",
    "df['event_type'].value_counts()"
   ]
  },
  {
   "cell_type": "code",
   "execution_count": 11,
   "metadata": {},
   "outputs": [],
   "source": [
    "search_df = df[df['event_type']=='SEARCH_SHOW']\n",
    "card_show_df = df[df['event_type']=='CARD_SHOW']\n",
    "phone_show_df = df[df['event_type']=='PHONE_SHOW']"
   ]
  },
  {
   "cell_type": "markdown",
   "metadata": {},
   "source": [
    "## The main feature in this log is a phone call from the user, let's explore this feature and it's dependency on card_view_type"
   ]
  },
  {
   "cell_type": "code",
   "execution_count": 12,
   "metadata": {},
   "outputs": [
    {
     "data": {
      "text/html": [
       "<div>\n",
       "<style scoped>\n",
       "    .dataframe tbody tr th:only-of-type {\n",
       "        vertical-align: middle;\n",
       "    }\n",
       "\n",
       "    .dataframe tbody tr th {\n",
       "        vertical-align: top;\n",
       "    }\n",
       "\n",
       "    .dataframe thead th {\n",
       "        text-align: right;\n",
       "    }\n",
       "</style>\n",
       "<table border=\"1\" class=\"dataframe\">\n",
       "  <thead>\n",
       "    <tr style=\"text-align: right;\">\n",
       "      <th></th>\n",
       "      <th>card_view_type</th>\n",
       "      <th>room_rooms_offered</th>\n",
       "      <th>site_id</th>\n",
       "      <th>offer_category</th>\n",
       "      <th>garage_type</th>\n",
       "      <th>query_text</th>\n",
       "      <th>anonymized_user_id</th>\n",
       "      <th>total_results</th>\n",
       "      <th>rgid</th>\n",
       "      <th>house_type</th>\n",
       "      <th>primary_sale</th>\n",
       "      <th>client_type</th>\n",
       "      <th>apartment_rooms_total</th>\n",
       "      <th>rent_price</th>\n",
       "      <th>parking_type</th>\n",
       "      <th>apartment_total_area</th>\n",
       "      <th>event_type</th>\n",
       "      <th>timestamp</th>\n",
       "      <th>apartment_flat_type</th>\n",
       "      <th>query_id</th>\n",
       "      <th>offer_type</th>\n",
       "      <th>commercial_type_list</th>\n",
       "      <th>pricing_period</th>\n",
       "      <th>web_referer</th>\n",
       "      <th>offer_id</th>\n",
       "      <th>event_place</th>\n",
       "      <th>apartment_floor</th>\n",
       "      <th>village_id</th>\n",
       "      <th>page_number</th>\n",
       "      <th>sell_price</th>\n",
       "      <th>room_rooms_total</th>\n",
       "    </tr>\n",
       "  </thead>\n",
       "  <tbody>\n",
       "    <tr>\n",
       "      <th>19</th>\n",
       "      <td>USED</td>\n",
       "      <td>NaN</td>\n",
       "      <td>NaN</td>\n",
       "      <td>APARTMENT</td>\n",
       "      <td>NaN</td>\n",
       "      <td>821669dbf91fe78557f5cd999c9aaca9</td>\n",
       "      <td>74563c185aadc85ca2c04a5d96a4cd2e</td>\n",
       "      <td>0</td>\n",
       "      <td>12395.0</td>\n",
       "      <td>NaN</td>\n",
       "      <td>False</td>\n",
       "      <td>TOUCH_PHONE</td>\n",
       "      <td>1.0</td>\n",
       "      <td>NaN</td>\n",
       "      <td>NaN</td>\n",
       "      <td>29.299999</td>\n",
       "      <td>PHONE_SHOW</td>\n",
       "      <td>1598364757000000</td>\n",
       "      <td>FLAT_TYPE_SECONDARY</td>\n",
       "      <td>821669dbf91fe78557f5cd999c9aaca9</td>\n",
       "      <td>SELL</td>\n",
       "      <td>NaN</td>\n",
       "      <td>NaN</td>\n",
       "      <td>https://m.realty.yandex.ru/moskva/kupit/kvartira/odnokomnatnaya/?from=wizard.general&amp;nosplash=1&amp;rgid=417965&amp;utm_campaign=buy&amp;utm_medium=flat.one_room&amp;utm_source=wizard&amp;page=5</td>\n",
       "      <td>5.437294e+18</td>\n",
       "      <td>LISTING</td>\n",
       "      <td>0.0</td>\n",
       "      <td>NaN</td>\n",
       "      <td>0</td>\n",
       "      <td>2350000.0</td>\n",
       "      <td>NaN</td>\n",
       "    </tr>\n",
       "    <tr>\n",
       "      <th>83</th>\n",
       "      <td>COMMERCIAL</td>\n",
       "      <td>NaN</td>\n",
       "      <td>NaN</td>\n",
       "      <td>COMMERCIAL</td>\n",
       "      <td>NaN</td>\n",
       "      <td>c0c113b2af458351ae4c5b8f1a1fc05b</td>\n",
       "      <td>fcf0c70f72fc7a20bffaf68e0db004aa</td>\n",
       "      <td>0</td>\n",
       "      <td>417899.0</td>\n",
       "      <td>NaN</td>\n",
       "      <td>NaN</td>\n",
       "      <td>DESKTOP</td>\n",
       "      <td>NaN</td>\n",
       "      <td>5000.0</td>\n",
       "      <td>NaN</td>\n",
       "      <td>NaN</td>\n",
       "      <td>PHONE_SHOW</td>\n",
       "      <td>1598384638000000</td>\n",
       "      <td>NaN</td>\n",
       "      <td>c0c113b2af458351ae4c5b8f1a1fc05b</td>\n",
       "      <td>RENT</td>\n",
       "      <td>COMMERCIAL_TYPE_LEGAL_ADDRESS</td>\n",
       "      <td>PRICING_PERIOD_UNKNOWN</td>\n",
       "      <td>https://realty.yandex.ru/sankt-peterburg/snyat/kommercheskaya-nedvizhimost/yuridicheskij-adres/?nosplash=1&amp;from=wizard.offers&amp;utm_source=wizard&amp;utm_campaign=rent.large.prod_personal_newbuilding&amp;utm_medium=commercial</td>\n",
       "      <td>3.157576e+18</td>\n",
       "      <td>LISTING</td>\n",
       "      <td>NaN</td>\n",
       "      <td>NaN</td>\n",
       "      <td>0</td>\n",
       "      <td>NaN</td>\n",
       "      <td>NaN</td>\n",
       "    </tr>\n",
       "    <tr>\n",
       "      <th>107</th>\n",
       "      <td>USED</td>\n",
       "      <td>NaN</td>\n",
       "      <td>NaN</td>\n",
       "      <td>APARTMENT</td>\n",
       "      <td>NaN</td>\n",
       "      <td>3c82e7e5926dcb77f088d41051bea031</td>\n",
       "      <td>7bfa39e50b9462d85e61d90cafcc3ae6</td>\n",
       "      <td>0</td>\n",
       "      <td>417899.0</td>\n",
       "      <td>NaN</td>\n",
       "      <td>False</td>\n",
       "      <td>DESKTOP</td>\n",
       "      <td>0.0</td>\n",
       "      <td>NaN</td>\n",
       "      <td>NaN</td>\n",
       "      <td>26.000000</td>\n",
       "      <td>PHONE_SHOW</td>\n",
       "      <td>1598345324000000</td>\n",
       "      <td>FLAT_TYPE_SECONDARY</td>\n",
       "      <td>3c82e7e5926dcb77f088d41051bea031</td>\n",
       "      <td>SELL</td>\n",
       "      <td>NaN</td>\n",
       "      <td>NaN</td>\n",
       "      <td>https://realty.yandex.ru/sankt-peterburg/kupit/kvartira/studiya/?address=%D1%82%D1%83%D1%80%D0%BA%D1%83&amp;nosplash=1&amp;from=wizard.offers&amp;pinnedOfferId=6120913633538585601&amp;utm_source=wizard&amp;utm_campaign=buy.realty_pars&amp;utm_medium=flat.studio</td>\n",
       "      <td>6.120914e+18</td>\n",
       "      <td>LISTING</td>\n",
       "      <td>0.0</td>\n",
       "      <td>NaN</td>\n",
       "      <td>0</td>\n",
       "      <td>4100000.0</td>\n",
       "      <td>NaN</td>\n",
       "    </tr>\n",
       "    <tr>\n",
       "      <th>280</th>\n",
       "      <td>USED</td>\n",
       "      <td>NaN</td>\n",
       "      <td>14921.0</td>\n",
       "      <td>APARTMENT</td>\n",
       "      <td>NaN</td>\n",
       "      <td>ca61bd1e6a0e307f1df823ed5905980d</td>\n",
       "      <td>424e94882e6972f31b96d9dbac8d224c</td>\n",
       "      <td>0</td>\n",
       "      <td>17393990.0</td>\n",
       "      <td>NaN</td>\n",
       "      <td>NaN</td>\n",
       "      <td>DESKTOP</td>\n",
       "      <td>1.0</td>\n",
       "      <td>20000.0</td>\n",
       "      <td>NaN</td>\n",
       "      <td>31.000000</td>\n",
       "      <td>PHONE_SHOW</td>\n",
       "      <td>1598337347000000</td>\n",
       "      <td>FLAT_TYPE_UNKNOWN</td>\n",
       "      <td>ca61bd1e6a0e307f1df823ed5905980d</td>\n",
       "      <td>RENT</td>\n",
       "      <td>NaN</td>\n",
       "      <td>PRICING_PERIOD_UNKNOWN</td>\n",
       "      <td>https://realty.yandex.ru/offer/6447427550676087296/#location</td>\n",
       "      <td>6.447428e+18</td>\n",
       "      <td>CARD_TOP</td>\n",
       "      <td>0.0</td>\n",
       "      <td>NaN</td>\n",
       "      <td>0</td>\n",
       "      <td>NaN</td>\n",
       "      <td>NaN</td>\n",
       "    </tr>\n",
       "    <tr>\n",
       "      <th>296</th>\n",
       "      <td>USED</td>\n",
       "      <td>NaN</td>\n",
       "      <td>NaN</td>\n",
       "      <td>APARTMENT</td>\n",
       "      <td>NaN</td>\n",
       "      <td>f795d5cf3d811b6319a7cc96ff8d152d</td>\n",
       "      <td>b139c0a0b22a9013c1a0ddaed0c31153</td>\n",
       "      <td>0</td>\n",
       "      <td>417899.0</td>\n",
       "      <td>NaN</td>\n",
       "      <td>False</td>\n",
       "      <td>DESKTOP</td>\n",
       "      <td>3.0</td>\n",
       "      <td>NaN</td>\n",
       "      <td>NaN</td>\n",
       "      <td>62.000000</td>\n",
       "      <td>PHONE_SHOW</td>\n",
       "      <td>1598362620000000</td>\n",
       "      <td>FLAT_TYPE_SECONDARY</td>\n",
       "      <td>f795d5cf3d811b6319a7cc96ff8d152d</td>\n",
       "      <td>SELL</td>\n",
       "      <td>NaN</td>\n",
       "      <td>NaN</td>\n",
       "      <td>https://realty.yandex.ru/offer/481686316481205761/</td>\n",
       "      <td>4.816863e+17</td>\n",
       "      <td>CARD_TOP</td>\n",
       "      <td>0.0</td>\n",
       "      <td>NaN</td>\n",
       "      <td>0</td>\n",
       "      <td>8300000.0</td>\n",
       "      <td>NaN</td>\n",
       "    </tr>\n",
       "  </tbody>\n",
       "</table>\n",
       "</div>"
      ],
      "text/plain": [
       "    card_view_type  room_rooms_offered  site_id offer_category garage_type                        query_text                anonymized_user_id  total_results        rgid house_type primary_sale  client_type  apartment_rooms_total  rent_price parking_type  apartment_total_area  event_type         timestamp  apartment_flat_type                          query_id offer_type           commercial_type_list          pricing_period                                                                                                                                                                                                                                    web_referer      offer_id event_place  apartment_floor  village_id  page_number  sell_price  room_rooms_total\n",
       "19            USED                 NaN      NaN      APARTMENT         NaN  821669dbf91fe78557f5cd999c9aaca9  74563c185aadc85ca2c04a5d96a4cd2e              0     12395.0        NaN        False  TOUCH_PHONE                    1.0         NaN          NaN             29.299999  PHONE_SHOW  1598364757000000  FLAT_TYPE_SECONDARY  821669dbf91fe78557f5cd999c9aaca9       SELL                            NaN                     NaN                                                                 https://m.realty.yandex.ru/moskva/kupit/kvartira/odnokomnatnaya/?from=wizard.general&nosplash=1&rgid=417965&utm_campaign=buy&utm_medium=flat.one_room&utm_source=wizard&page=5  5.437294e+18     LISTING              0.0         NaN            0   2350000.0               NaN\n",
       "83      COMMERCIAL                 NaN      NaN     COMMERCIAL         NaN  c0c113b2af458351ae4c5b8f1a1fc05b  fcf0c70f72fc7a20bffaf68e0db004aa              0    417899.0        NaN          NaN      DESKTOP                    NaN      5000.0          NaN                   NaN  PHONE_SHOW  1598384638000000                  NaN  c0c113b2af458351ae4c5b8f1a1fc05b       RENT  COMMERCIAL_TYPE_LEGAL_ADDRESS  PRICING_PERIOD_UNKNOWN                        https://realty.yandex.ru/sankt-peterburg/snyat/kommercheskaya-nedvizhimost/yuridicheskij-adres/?nosplash=1&from=wizard.offers&utm_source=wizard&utm_campaign=rent.large.prod_personal_newbuilding&utm_medium=commercial  3.157576e+18     LISTING              NaN         NaN            0         NaN               NaN\n",
       "107           USED                 NaN      NaN      APARTMENT         NaN  3c82e7e5926dcb77f088d41051bea031  7bfa39e50b9462d85e61d90cafcc3ae6              0    417899.0        NaN        False      DESKTOP                    0.0         NaN          NaN             26.000000  PHONE_SHOW  1598345324000000  FLAT_TYPE_SECONDARY  3c82e7e5926dcb77f088d41051bea031       SELL                            NaN                     NaN  https://realty.yandex.ru/sankt-peterburg/kupit/kvartira/studiya/?address=%D1%82%D1%83%D1%80%D0%BA%D1%83&nosplash=1&from=wizard.offers&pinnedOfferId=6120913633538585601&utm_source=wizard&utm_campaign=buy.realty_pars&utm_medium=flat.studio  6.120914e+18     LISTING              0.0         NaN            0   4100000.0               NaN\n",
       "280           USED                 NaN  14921.0      APARTMENT         NaN  ca61bd1e6a0e307f1df823ed5905980d  424e94882e6972f31b96d9dbac8d224c              0  17393990.0        NaN          NaN      DESKTOP                    1.0     20000.0          NaN             31.000000  PHONE_SHOW  1598337347000000    FLAT_TYPE_UNKNOWN  ca61bd1e6a0e307f1df823ed5905980d       RENT                            NaN  PRICING_PERIOD_UNKNOWN                                                                                                                                                                                   https://realty.yandex.ru/offer/6447427550676087296/#location  6.447428e+18    CARD_TOP              0.0         NaN            0         NaN               NaN\n",
       "296           USED                 NaN      NaN      APARTMENT         NaN  f795d5cf3d811b6319a7cc96ff8d152d  b139c0a0b22a9013c1a0ddaed0c31153              0    417899.0        NaN        False      DESKTOP                    3.0         NaN          NaN             62.000000  PHONE_SHOW  1598362620000000  FLAT_TYPE_SECONDARY  f795d5cf3d811b6319a7cc96ff8d152d       SELL                            NaN                     NaN                                                                                                                                                                                             https://realty.yandex.ru/offer/481686316481205761/  4.816863e+17    CARD_TOP              0.0         NaN            0   8300000.0               NaN"
      ]
     },
     "execution_count": 12,
     "metadata": {},
     "output_type": "execute_result"
    }
   ],
   "source": [
    "phone_show_df.head()"
   ]
  },
  {
   "cell_type": "code",
   "execution_count": 13,
   "metadata": {},
   "outputs": [
    {
     "data": {
      "text/plain": [
       "USED           0.946289\n",
       "NEW            0.022461\n",
       "COMMERCIAL     0.017578\n",
       "NEWBUILDING    0.013672\n",
       "Name: card_view_type, dtype: float64"
      ]
     },
     "execution_count": 13,
     "metadata": {},
     "output_type": "execute_result"
    }
   ],
   "source": [
    "phone_show_df['card_view_type'].value_counts(normalize=True)"
   ]
  },
  {
   "cell_type": "markdown",
   "metadata": {},
   "source": [
    "## Let's explore user searches and try to find % of searches with empty result"
   ]
  },
  {
   "cell_type": "code",
   "execution_count": 14,
   "metadata": {},
   "outputs": [
    {
     "data": {
      "text/html": [
       "<div>\n",
       "<style scoped>\n",
       "    .dataframe tbody tr th:only-of-type {\n",
       "        vertical-align: middle;\n",
       "    }\n",
       "\n",
       "    .dataframe tbody tr th {\n",
       "        vertical-align: top;\n",
       "    }\n",
       "\n",
       "    .dataframe thead th {\n",
       "        text-align: right;\n",
       "    }\n",
       "</style>\n",
       "<table border=\"1\" class=\"dataframe\">\n",
       "  <thead>\n",
       "    <tr style=\"text-align: right;\">\n",
       "      <th></th>\n",
       "      <th>card_view_type</th>\n",
       "      <th>room_rooms_offered</th>\n",
       "      <th>site_id</th>\n",
       "      <th>offer_category</th>\n",
       "      <th>garage_type</th>\n",
       "      <th>query_text</th>\n",
       "      <th>anonymized_user_id</th>\n",
       "      <th>total_results</th>\n",
       "      <th>rgid</th>\n",
       "      <th>house_type</th>\n",
       "      <th>primary_sale</th>\n",
       "      <th>client_type</th>\n",
       "      <th>apartment_rooms_total</th>\n",
       "      <th>rent_price</th>\n",
       "      <th>parking_type</th>\n",
       "      <th>apartment_total_area</th>\n",
       "      <th>event_type</th>\n",
       "      <th>timestamp</th>\n",
       "      <th>apartment_flat_type</th>\n",
       "      <th>query_id</th>\n",
       "      <th>offer_type</th>\n",
       "      <th>commercial_type_list</th>\n",
       "      <th>pricing_period</th>\n",
       "      <th>web_referer</th>\n",
       "      <th>offer_id</th>\n",
       "      <th>event_place</th>\n",
       "      <th>apartment_floor</th>\n",
       "      <th>village_id</th>\n",
       "      <th>page_number</th>\n",
       "      <th>sell_price</th>\n",
       "      <th>room_rooms_total</th>\n",
       "    </tr>\n",
       "  </thead>\n",
       "  <tbody>\n",
       "    <tr>\n",
       "      <th>1</th>\n",
       "      <td>UNKNOWN</td>\n",
       "      <td>NaN</td>\n",
       "      <td>NaN</td>\n",
       "      <td>OFFER_CATEGORY_UNKNOWN</td>\n",
       "      <td>NaN</td>\n",
       "      <td>93684c83d8f27359373157f92e33ce8c</td>\n",
       "      <td>12205865945ca3f9545080d9b268b98f</td>\n",
       "      <td>38</td>\n",
       "      <td>NaN</td>\n",
       "      <td>NaN</td>\n",
       "      <td>NaN</td>\n",
       "      <td>TOUCH_PHONE</td>\n",
       "      <td>NaN</td>\n",
       "      <td>NaN</td>\n",
       "      <td>NaN</td>\n",
       "      <td>NaN</td>\n",
       "      <td>SEARCH_SHOW</td>\n",
       "      <td>1598382056000000</td>\n",
       "      <td>NaN</td>\n",
       "      <td>93684c83d8f27359373157f92e33ce8c</td>\n",
       "      <td>OFFER_TYPE_UNKNOWN</td>\n",
       "      <td>NaN</td>\n",
       "      <td>NaN</td>\n",
       "      <td>https://m.realty.yandex.ru/sankt-peterburg/kupit/kvartira/dvuhkomnatnaya/?siteId=2145&amp;primarySale=NO</td>\n",
       "      <td>NaN</td>\n",
       "      <td>UNKNOWN</td>\n",
       "      <td>NaN</td>\n",
       "      <td>NaN</td>\n",
       "      <td>0</td>\n",
       "      <td>NaN</td>\n",
       "      <td>NaN</td>\n",
       "    </tr>\n",
       "    <tr>\n",
       "      <th>3</th>\n",
       "      <td>UNKNOWN</td>\n",
       "      <td>NaN</td>\n",
       "      <td>NaN</td>\n",
       "      <td>OFFER_CATEGORY_UNKNOWN</td>\n",
       "      <td>NaN</td>\n",
       "      <td>0a128a65f5a0b46c63b775c7cb8ed143</td>\n",
       "      <td>f9e6354e22bedcc4cc77c5ff0cf78de6</td>\n",
       "      <td>1828</td>\n",
       "      <td>417899.0</td>\n",
       "      <td>NaN</td>\n",
       "      <td>NaN</td>\n",
       "      <td>TOUCH_PHONE</td>\n",
       "      <td>NaN</td>\n",
       "      <td>NaN</td>\n",
       "      <td>NaN</td>\n",
       "      <td>NaN</td>\n",
       "      <td>SEARCH_SHOW</td>\n",
       "      <td>1598352595000000</td>\n",
       "      <td>NaN</td>\n",
       "      <td>0a128a65f5a0b46c63b775c7cb8ed143</td>\n",
       "      <td>OFFER_TYPE_UNKNOWN</td>\n",
       "      <td>NaN</td>\n",
       "      <td>NaN</td>\n",
       "      <td>https://m.realty.yandex.ru/sankt-peterburg/snyat/kvartira/dvuhkomnatnaya/?cardIndex=19&amp;isExact=YES&amp;page=5&amp;sort=PRICE</td>\n",
       "      <td>NaN</td>\n",
       "      <td>LISTING</td>\n",
       "      <td>NaN</td>\n",
       "      <td>NaN</td>\n",
       "      <td>5</td>\n",
       "      <td>NaN</td>\n",
       "      <td>NaN</td>\n",
       "    </tr>\n",
       "    <tr>\n",
       "      <th>5</th>\n",
       "      <td>UNKNOWN</td>\n",
       "      <td>NaN</td>\n",
       "      <td>NaN</td>\n",
       "      <td>OFFER_CATEGORY_UNKNOWN</td>\n",
       "      <td>NaN</td>\n",
       "      <td>cbfdbc51f3f9b39637e23cb30a26a1b6</td>\n",
       "      <td>17de0abea22ef627fe2f740238c123db</td>\n",
       "      <td>61</td>\n",
       "      <td>417899.0</td>\n",
       "      <td>NaN</td>\n",
       "      <td>NaN</td>\n",
       "      <td>DESKTOP</td>\n",
       "      <td>NaN</td>\n",
       "      <td>NaN</td>\n",
       "      <td>NaN</td>\n",
       "      <td>NaN</td>\n",
       "      <td>SEARCH_SHOW</td>\n",
       "      <td>1598352001000000</td>\n",
       "      <td>NaN</td>\n",
       "      <td>cbfdbc51f3f9b39637e23cb30a26a1b6</td>\n",
       "      <td>OFFER_TYPE_UNKNOWN</td>\n",
       "      <td>NaN</td>\n",
       "      <td>NaN</td>\n",
       "      <td>https://realty.yandex.ru/sankt-peterburg/kupit/kvartira/1,2-komnatnie/?nosplash=1&amp;utm_source=web_block&amp;metroTransport=ON_FOOT&amp;timeToMetro=15&amp;newFlat=NO&amp;floorMax=6&amp;floorExceptFirst=YES&amp;mapPolygon=60.02098%2C30.22238%3B60.01979%2C30.22431%3B60.01622%2C30.22793%3B60.01509%2C30.22952%3B60.01225%2C30.23246%3B60.01129%2C30.23382%3B60.00936%2C30.23473%3B60.00618%2C30.23473%3B60.00556%2C30.23439%3B60.00392%2C30.23427%3B60.0021%2C30.23382%3B59.99989%2C30.23371%3B59.99955%2C30.23416%3B59.99898%2C30.23756%3B59.99711%2C30.25443%3B59.99745%2C30.2559%3B59.99977%2C30.25602%3B60.00057%2C30.25624%3B60.00057%2C30.2584%3B59.99938%2C30.26972%3B60.00006%2C30.27085%3B60.00068%2C30.27142%3B60.00216%2C30.27176%3B60.00267%2C30.2721%3B60.00448%2C30.27221%3B60.00505%2C30.27312%3B60.00562%2C30.27357%3B60.00766%2C30.27425%3B60.00913%2C30.27504%3B60.01044%2C30.27538%3B60.0114%2C30.2764%3B60.01202%2C30.27674%3B60.01271%2C30.27674%3B60.01305%2C30.27391%3B60.01361%2C30.27187%3B60.01554%2C30.27176%3B60.0182%2C30.27...</td>\n",
       "      <td>NaN</td>\n",
       "      <td>LISTING</td>\n",
       "      <td>NaN</td>\n",
       "      <td>NaN</td>\n",
       "      <td>2</td>\n",
       "      <td>NaN</td>\n",
       "      <td>NaN</td>\n",
       "    </tr>\n",
       "    <tr>\n",
       "      <th>8</th>\n",
       "      <td>UNKNOWN</td>\n",
       "      <td>NaN</td>\n",
       "      <td>NaN</td>\n",
       "      <td>OFFER_CATEGORY_UNKNOWN</td>\n",
       "      <td>NaN</td>\n",
       "      <td>75109145a775c2f302c93244826adeec</td>\n",
       "      <td>009cafc6def71a57ece655dcfd47e464</td>\n",
       "      <td>486</td>\n",
       "      <td>417899.0</td>\n",
       "      <td>NaN</td>\n",
       "      <td>NaN</td>\n",
       "      <td>TOUCH_PHONE</td>\n",
       "      <td>NaN</td>\n",
       "      <td>NaN</td>\n",
       "      <td>NaN</td>\n",
       "      <td>NaN</td>\n",
       "      <td>SEARCH_SHOW</td>\n",
       "      <td>1598364979000000</td>\n",
       "      <td>NaN</td>\n",
       "      <td>75109145a775c2f302c93244826adeec</td>\n",
       "      <td>OFFER_TYPE_UNKNOWN</td>\n",
       "      <td>NaN</td>\n",
       "      <td>NaN</td>\n",
       "      <td>https://m.realty.yandex.ru/sankt-peterburg/kupit/kvartira/dvuhkomnatnaya/?subLocality=417973&amp;sort=PRICE&amp;page=3</td>\n",
       "      <td>NaN</td>\n",
       "      <td>LISTING</td>\n",
       "      <td>NaN</td>\n",
       "      <td>NaN</td>\n",
       "      <td>3</td>\n",
       "      <td>NaN</td>\n",
       "      <td>NaN</td>\n",
       "    </tr>\n",
       "    <tr>\n",
       "      <th>10</th>\n",
       "      <td>UNKNOWN</td>\n",
       "      <td>NaN</td>\n",
       "      <td>NaN</td>\n",
       "      <td>OFFER_CATEGORY_UNKNOWN</td>\n",
       "      <td>NaN</td>\n",
       "      <td>5e8c5407b1edf8d1ca0e088ec4d7535b</td>\n",
       "      <td>df33c4ea9eb48164901046bf832519c6</td>\n",
       "      <td>1625</td>\n",
       "      <td>417899.0</td>\n",
       "      <td>NaN</td>\n",
       "      <td>NaN</td>\n",
       "      <td>TOUCH_PHONE</td>\n",
       "      <td>NaN</td>\n",
       "      <td>NaN</td>\n",
       "      <td>NaN</td>\n",
       "      <td>NaN</td>\n",
       "      <td>SEARCH_SHOW</td>\n",
       "      <td>1598388664000000</td>\n",
       "      <td>NaN</td>\n",
       "      <td>5e8c5407b1edf8d1ca0e088ec4d7535b</td>\n",
       "      <td>OFFER_TYPE_UNKNOWN</td>\n",
       "      <td>NaN</td>\n",
       "      <td>NaN</td>\n",
       "      <td>https://m.realty.yandex.ru/sankt-peterburg/snyat/kvartira/posutochno/?sort=PRICE&amp;page=2</td>\n",
       "      <td>NaN</td>\n",
       "      <td>LISTING</td>\n",
       "      <td>NaN</td>\n",
       "      <td>NaN</td>\n",
       "      <td>2</td>\n",
       "      <td>NaN</td>\n",
       "      <td>NaN</td>\n",
       "    </tr>\n",
       "  </tbody>\n",
       "</table>\n",
       "</div>"
      ],
      "text/plain": [
       "   card_view_type  room_rooms_offered  site_id          offer_category garage_type                        query_text                anonymized_user_id  total_results      rgid house_type primary_sale  client_type  apartment_rooms_total  rent_price parking_type  apartment_total_area   event_type         timestamp apartment_flat_type                          query_id          offer_type commercial_type_list pricing_period  \\\n",
       "1         UNKNOWN                 NaN      NaN  OFFER_CATEGORY_UNKNOWN         NaN  93684c83d8f27359373157f92e33ce8c  12205865945ca3f9545080d9b268b98f             38       NaN        NaN          NaN  TOUCH_PHONE                    NaN         NaN          NaN                   NaN  SEARCH_SHOW  1598382056000000                 NaN  93684c83d8f27359373157f92e33ce8c  OFFER_TYPE_UNKNOWN                  NaN            NaN   \n",
       "3         UNKNOWN                 NaN      NaN  OFFER_CATEGORY_UNKNOWN         NaN  0a128a65f5a0b46c63b775c7cb8ed143  f9e6354e22bedcc4cc77c5ff0cf78de6           1828  417899.0        NaN          NaN  TOUCH_PHONE                    NaN         NaN          NaN                   NaN  SEARCH_SHOW  1598352595000000                 NaN  0a128a65f5a0b46c63b775c7cb8ed143  OFFER_TYPE_UNKNOWN                  NaN            NaN   \n",
       "5         UNKNOWN                 NaN      NaN  OFFER_CATEGORY_UNKNOWN         NaN  cbfdbc51f3f9b39637e23cb30a26a1b6  17de0abea22ef627fe2f740238c123db             61  417899.0        NaN          NaN      DESKTOP                    NaN         NaN          NaN                   NaN  SEARCH_SHOW  1598352001000000                 NaN  cbfdbc51f3f9b39637e23cb30a26a1b6  OFFER_TYPE_UNKNOWN                  NaN            NaN   \n",
       "8         UNKNOWN                 NaN      NaN  OFFER_CATEGORY_UNKNOWN         NaN  75109145a775c2f302c93244826adeec  009cafc6def71a57ece655dcfd47e464            486  417899.0        NaN          NaN  TOUCH_PHONE                    NaN         NaN          NaN                   NaN  SEARCH_SHOW  1598364979000000                 NaN  75109145a775c2f302c93244826adeec  OFFER_TYPE_UNKNOWN                  NaN            NaN   \n",
       "10        UNKNOWN                 NaN      NaN  OFFER_CATEGORY_UNKNOWN         NaN  5e8c5407b1edf8d1ca0e088ec4d7535b  df33c4ea9eb48164901046bf832519c6           1625  417899.0        NaN          NaN  TOUCH_PHONE                    NaN         NaN          NaN                   NaN  SEARCH_SHOW  1598388664000000                 NaN  5e8c5407b1edf8d1ca0e088ec4d7535b  OFFER_TYPE_UNKNOWN                  NaN            NaN   \n",
       "\n",
       "                                                                                                                                                                                                                                                                                                                                                                                                                                                                                                                                                                                                                                                                                                                                                                                                                                                                                                                                                                                                                                web_referer  \\\n",
       "1                                                                                                                                                                                                                                                                                                                                                                                                                                                                                                                                                                                                                                                                                                                                                                                                                                                                                                                                      https://m.realty.yandex.ru/sankt-peterburg/kupit/kvartira/dvuhkomnatnaya/?siteId=2145&primarySale=NO   \n",
       "3                                                                                                                                                                                                                                                                                                                                                                                                                                                                                                                                                                                                                                                                                                                                                                                                                                                                                                                      https://m.realty.yandex.ru/sankt-peterburg/snyat/kvartira/dvuhkomnatnaya/?cardIndex=19&isExact=YES&page=5&sort=PRICE   \n",
       "5   https://realty.yandex.ru/sankt-peterburg/kupit/kvartira/1,2-komnatnie/?nosplash=1&utm_source=web_block&metroTransport=ON_FOOT&timeToMetro=15&newFlat=NO&floorMax=6&floorExceptFirst=YES&mapPolygon=60.02098%2C30.22238%3B60.01979%2C30.22431%3B60.01622%2C30.22793%3B60.01509%2C30.22952%3B60.01225%2C30.23246%3B60.01129%2C30.23382%3B60.00936%2C30.23473%3B60.00618%2C30.23473%3B60.00556%2C30.23439%3B60.00392%2C30.23427%3B60.0021%2C30.23382%3B59.99989%2C30.23371%3B59.99955%2C30.23416%3B59.99898%2C30.23756%3B59.99711%2C30.25443%3B59.99745%2C30.2559%3B59.99977%2C30.25602%3B60.00057%2C30.25624%3B60.00057%2C30.2584%3B59.99938%2C30.26972%3B60.00006%2C30.27085%3B60.00068%2C30.27142%3B60.00216%2C30.27176%3B60.00267%2C30.2721%3B60.00448%2C30.27221%3B60.00505%2C30.27312%3B60.00562%2C30.27357%3B60.00766%2C30.27425%3B60.00913%2C30.27504%3B60.01044%2C30.27538%3B60.0114%2C30.2764%3B60.01202%2C30.27674%3B60.01271%2C30.27674%3B60.01305%2C30.27391%3B60.01361%2C30.27187%3B60.01554%2C30.27176%3B60.0182%2C30.27...   \n",
       "8                                                                                                                                                                                                                                                                                                                                                                                                                                                                                                                                                                                                                                                                                                                                                                                                                                                                                                                            https://m.realty.yandex.ru/sankt-peterburg/kupit/kvartira/dvuhkomnatnaya/?subLocality=417973&sort=PRICE&page=3   \n",
       "10                                                                                                                                                                                                                                                                                                                                                                                                                                                                                                                                                                                                                                                                                                                                                                                                                                                                                                                                                  https://m.realty.yandex.ru/sankt-peterburg/snyat/kvartira/posutochno/?sort=PRICE&page=2   \n",
       "\n",
       "    offer_id event_place  apartment_floor  village_id  page_number  sell_price  room_rooms_total  \n",
       "1        NaN     UNKNOWN              NaN         NaN            0         NaN               NaN  \n",
       "3        NaN     LISTING              NaN         NaN            5         NaN               NaN  \n",
       "5        NaN     LISTING              NaN         NaN            2         NaN               NaN  \n",
       "8        NaN     LISTING              NaN         NaN            3         NaN               NaN  \n",
       "10       NaN     LISTING              NaN         NaN            2         NaN               NaN  "
      ]
     },
     "execution_count": 14,
     "metadata": {},
     "output_type": "execute_result"
    }
   ],
   "source": [
    "search_df.head()"
   ]
  },
  {
   "cell_type": "code",
   "execution_count": 15,
   "metadata": {},
   "outputs": [
    {
     "data": {
      "text/plain": [
       "541.0"
      ]
     },
     "execution_count": 15,
     "metadata": {},
     "output_type": "execute_result"
    }
   ],
   "source": [
    "search_df.total_results.median()"
   ]
  },
  {
   "cell_type": "code",
   "execution_count": 16,
   "metadata": {},
   "outputs": [
    {
     "data": {
      "text/plain": [
       "0.007822685788787484"
      ]
     },
     "execution_count": 16,
     "metadata": {},
     "output_type": "execute_result"
    }
   ],
   "source": [
    "search_df[search_df['total_results']==0].total_results.count()/search_df.total_results.count()"
   ]
  },
  {
   "cell_type": "markdown",
   "metadata": {},
   "source": [
    "## How do you think,why are they empty? Let's explore"
   ]
  },
  {
   "cell_type": "code",
   "execution_count": 17,
   "metadata": {},
   "outputs": [
    {
     "data": {
      "text/html": [
       "<div>\n",
       "<style scoped>\n",
       "    .dataframe tbody tr th:only-of-type {\n",
       "        vertical-align: middle;\n",
       "    }\n",
       "\n",
       "    .dataframe tbody tr th {\n",
       "        vertical-align: top;\n",
       "    }\n",
       "\n",
       "    .dataframe thead th {\n",
       "        text-align: right;\n",
       "    }\n",
       "</style>\n",
       "<table border=\"1\" class=\"dataframe\">\n",
       "  <thead>\n",
       "    <tr style=\"text-align: right;\">\n",
       "      <th></th>\n",
       "      <th>card_view_type</th>\n",
       "      <th>room_rooms_offered</th>\n",
       "      <th>site_id</th>\n",
       "      <th>offer_category</th>\n",
       "      <th>garage_type</th>\n",
       "      <th>query_text</th>\n",
       "      <th>anonymized_user_id</th>\n",
       "      <th>total_results</th>\n",
       "      <th>rgid</th>\n",
       "      <th>house_type</th>\n",
       "      <th>primary_sale</th>\n",
       "      <th>client_type</th>\n",
       "      <th>apartment_rooms_total</th>\n",
       "      <th>rent_price</th>\n",
       "      <th>parking_type</th>\n",
       "      <th>apartment_total_area</th>\n",
       "      <th>event_type</th>\n",
       "      <th>timestamp</th>\n",
       "      <th>apartment_flat_type</th>\n",
       "      <th>query_id</th>\n",
       "      <th>offer_type</th>\n",
       "      <th>commercial_type_list</th>\n",
       "      <th>pricing_period</th>\n",
       "      <th>web_referer</th>\n",
       "      <th>offer_id</th>\n",
       "      <th>event_place</th>\n",
       "      <th>apartment_floor</th>\n",
       "      <th>village_id</th>\n",
       "      <th>page_number</th>\n",
       "      <th>sell_price</th>\n",
       "      <th>room_rooms_total</th>\n",
       "    </tr>\n",
       "  </thead>\n",
       "  <tbody>\n",
       "    <tr>\n",
       "      <th>241</th>\n",
       "      <td>UNKNOWN</td>\n",
       "      <td>NaN</td>\n",
       "      <td>NaN</td>\n",
       "      <td>OFFER_CATEGORY_UNKNOWN</td>\n",
       "      <td>NaN</td>\n",
       "      <td>b0491c41a53d73cd9fcb594f180a6c78</td>\n",
       "      <td>b1e02cfc1b41fa9f082ecb0e6d5b6d94</td>\n",
       "      <td>0</td>\n",
       "      <td>417899.0</td>\n",
       "      <td>NaN</td>\n",
       "      <td>NaN</td>\n",
       "      <td>DESKTOP</td>\n",
       "      <td>NaN</td>\n",
       "      <td>NaN</td>\n",
       "      <td>NaN</td>\n",
       "      <td>NaN</td>\n",
       "      <td>SEARCH_SHOW</td>\n",
       "      <td>1598386232000000</td>\n",
       "      <td>NaN</td>\n",
       "      <td>b0491c41a53d73cd9fcb594f180a6c78</td>\n",
       "      <td>OFFER_TYPE_UNKNOWN</td>\n",
       "      <td>NaN</td>\n",
       "      <td>NaN</td>\n",
       "      <td>https://realty.yandex.ru/sankt-peterburg/snyat/kvartira/?from=main_menu</td>\n",
       "      <td>NaN</td>\n",
       "      <td>LISTING</td>\n",
       "      <td>NaN</td>\n",
       "      <td>NaN</td>\n",
       "      <td>0</td>\n",
       "      <td>NaN</td>\n",
       "      <td>NaN</td>\n",
       "    </tr>\n",
       "    <tr>\n",
       "      <th>387</th>\n",
       "      <td>UNKNOWN</td>\n",
       "      <td>NaN</td>\n",
       "      <td>NaN</td>\n",
       "      <td>OFFER_CATEGORY_UNKNOWN</td>\n",
       "      <td>NaN</td>\n",
       "      <td>b1a939f6393903b077529e7d8e73d4f0</td>\n",
       "      <td>69dacdccd67e1f63c425b1a28e61bcc5</td>\n",
       "      <td>0</td>\n",
       "      <td>417899.0</td>\n",
       "      <td>NaN</td>\n",
       "      <td>NaN</td>\n",
       "      <td>DESKTOP</td>\n",
       "      <td>NaN</td>\n",
       "      <td>NaN</td>\n",
       "      <td>NaN</td>\n",
       "      <td>NaN</td>\n",
       "      <td>SEARCH_SHOW</td>\n",
       "      <td>1598374027000000</td>\n",
       "      <td>NaN</td>\n",
       "      <td>b1a939f6393903b077529e7d8e73d4f0</td>\n",
       "      <td>OFFER_TYPE_UNKNOWN</td>\n",
       "      <td>NaN</td>\n",
       "      <td>NaN</td>\n",
       "      <td>https://realty.yandex.ru/sankt-peterburg/snyat/kvartira/studiya,1-komnatnie/?nosplash=1&amp;utm_source=wizard&amp;utm_campaign=rent.large&amp;utm_medium=flat&amp;mapPolygon=59.96481%2C30.35463%3B59.96485%2C30.35473%3B59.96511%2C30.35481%3B59.96566%2C30.35447%3B59.96586%2C30.35423%3B59.96628%2C30.3534%3B59.96635%2C30.3524%3B59.96648%2C30.35187%3B59.9671%2C30.35113%3B59.96776%2C30.35094%3B59.96831%2C30.35062%3B59.96884%2C30.35054%3B59.97039%2C30.34923%3B59.97068%2C30.34909%3B59.97047%2C30.34711%3B59.9702%2C30.34655%3B59.96984%2C30.34625%3B59.96862%2C30.34621%3B59.96805%2C30.34651%3B59.96713%2C30.34725%3B59.96629%2C30.34756%3B59.96603%2C30.34756%3B59.96555%2C30.3474%3B59.96474%2C30.34744%3B59.96406%2C30.348%3B59.96304%2C30.34982%3B59.9628%2C30.35006%3B59.96191%2C30.35014%3B59.96164%2C30.35038%3B59.96017%2C30.35187%3B59.95962%2C30.35296%3B59.95952%2C30.35393%3B59.95957%2C30.35514%3B59.95973%2C30.35578%3B59.9601%2C30.35619%3B59.96088%2C30.35617%3B59.96161%2C30.35594%3B59.96316%2C30.35447%3B59.9635%2C30...</td>\n",
       "      <td>NaN</td>\n",
       "      <td>LISTING</td>\n",
       "      <td>NaN</td>\n",
       "      <td>NaN</td>\n",
       "      <td>0</td>\n",
       "      <td>NaN</td>\n",
       "      <td>NaN</td>\n",
       "    </tr>\n",
       "    <tr>\n",
       "      <th>612</th>\n",
       "      <td>NEWBUILDING</td>\n",
       "      <td>NaN</td>\n",
       "      <td>NaN</td>\n",
       "      <td>OFFER_CATEGORY_UNKNOWN</td>\n",
       "      <td>NaN</td>\n",
       "      <td>e0f2d84075d7fe9747460aded1af4c45</td>\n",
       "      <td>d536c1776753ea279173d933a0eb2621</td>\n",
       "      <td>0</td>\n",
       "      <td>741964.0</td>\n",
       "      <td>NaN</td>\n",
       "      <td>NaN</td>\n",
       "      <td>DESKTOP</td>\n",
       "      <td>NaN</td>\n",
       "      <td>NaN</td>\n",
       "      <td>NaN</td>\n",
       "      <td>NaN</td>\n",
       "      <td>SEARCH_SHOW</td>\n",
       "      <td>1598349867000000</td>\n",
       "      <td>NaN</td>\n",
       "      <td>e0f2d84075d7fe9747460aded1af4c45</td>\n",
       "      <td>OFFER_TYPE_UNKNOWN</td>\n",
       "      <td>NaN</td>\n",
       "      <td>NaN</td>\n",
       "      <td>https://realty.yandex.ru/moskva_i_moskovskaya_oblast/kupit/novostrojka/dvuhkomnatnaya/metro-tushinskaya/?priceMax=7000000&amp;deliveryDate=FINISHED&amp;decoration=TURNKEY</td>\n",
       "      <td>NaN</td>\n",
       "      <td>NEWBUILDING_LISTING</td>\n",
       "      <td>NaN</td>\n",
       "      <td>NaN</td>\n",
       "      <td>0</td>\n",
       "      <td>NaN</td>\n",
       "      <td>NaN</td>\n",
       "    </tr>\n",
       "    <tr>\n",
       "      <th>613</th>\n",
       "      <td>NEWBUILDING</td>\n",
       "      <td>NaN</td>\n",
       "      <td>NaN</td>\n",
       "      <td>OFFER_CATEGORY_UNKNOWN</td>\n",
       "      <td>NaN</td>\n",
       "      <td>e0f2d84075d7fe9747460aded1af4c45</td>\n",
       "      <td>d536c1776753ea279173d933a0eb2621</td>\n",
       "      <td>0</td>\n",
       "      <td>741964.0</td>\n",
       "      <td>NaN</td>\n",
       "      <td>NaN</td>\n",
       "      <td>DESKTOP</td>\n",
       "      <td>NaN</td>\n",
       "      <td>NaN</td>\n",
       "      <td>NaN</td>\n",
       "      <td>NaN</td>\n",
       "      <td>SEARCH_SHOW</td>\n",
       "      <td>1598349867000000</td>\n",
       "      <td>NaN</td>\n",
       "      <td>e0f2d84075d7fe9747460aded1af4c45</td>\n",
       "      <td>OFFER_TYPE_UNKNOWN</td>\n",
       "      <td>NaN</td>\n",
       "      <td>NaN</td>\n",
       "      <td>https://realty.yandex.ru/moskva_i_moskovskaya_oblast/kupit/novostrojka/dvuhkomnatnaya/metro-tushinskaya/?priceMax=7000000&amp;deliveryDate=FINISHED&amp;decoration=TURNKEY</td>\n",
       "      <td>NaN</td>\n",
       "      <td>NEWBUILDING_LISTING</td>\n",
       "      <td>NaN</td>\n",
       "      <td>NaN</td>\n",
       "      <td>0</td>\n",
       "      <td>NaN</td>\n",
       "      <td>NaN</td>\n",
       "    </tr>\n",
       "    <tr>\n",
       "      <th>862</th>\n",
       "      <td>UNKNOWN</td>\n",
       "      <td>NaN</td>\n",
       "      <td>NaN</td>\n",
       "      <td>OFFER_CATEGORY_UNKNOWN</td>\n",
       "      <td>NaN</td>\n",
       "      <td>54c7b24d1b1828590239e77fab6fad18</td>\n",
       "      <td>3a82c4ceec1eca5720fcdeec90351d63</td>\n",
       "      <td>0</td>\n",
       "      <td>417899.0</td>\n",
       "      <td>NaN</td>\n",
       "      <td>NaN</td>\n",
       "      <td>DESKTOP</td>\n",
       "      <td>NaN</td>\n",
       "      <td>NaN</td>\n",
       "      <td>NaN</td>\n",
       "      <td>NaN</td>\n",
       "      <td>SEARCH_SHOW</td>\n",
       "      <td>1598349170000000</td>\n",
       "      <td>NaN</td>\n",
       "      <td>54c7b24d1b1828590239e77fab6fad18</td>\n",
       "      <td>OFFER_TYPE_UNKNOWN</td>\n",
       "      <td>NaN</td>\n",
       "      <td>NaN</td>\n",
       "      <td>https://realty.yandex.ru/sankt-peterburg/snyat/kvartira/?nosplash=1&amp;from=wizard.offers&amp;utm_source=wizard&amp;utm_campaign=rent.large.personal_return_100.personal&amp;utm_medium=flat</td>\n",
       "      <td>NaN</td>\n",
       "      <td>LISTING</td>\n",
       "      <td>NaN</td>\n",
       "      <td>NaN</td>\n",
       "      <td>0</td>\n",
       "      <td>NaN</td>\n",
       "      <td>NaN</td>\n",
       "    </tr>\n",
       "  </tbody>\n",
       "</table>\n",
       "</div>"
      ],
      "text/plain": [
       "    card_view_type  room_rooms_offered  site_id          offer_category garage_type                        query_text                anonymized_user_id  total_results      rgid house_type primary_sale client_type  apartment_rooms_total  rent_price parking_type  apartment_total_area   event_type         timestamp apartment_flat_type                          query_id          offer_type commercial_type_list pricing_period  \\\n",
       "241        UNKNOWN                 NaN      NaN  OFFER_CATEGORY_UNKNOWN         NaN  b0491c41a53d73cd9fcb594f180a6c78  b1e02cfc1b41fa9f082ecb0e6d5b6d94              0  417899.0        NaN          NaN     DESKTOP                    NaN         NaN          NaN                   NaN  SEARCH_SHOW  1598386232000000                 NaN  b0491c41a53d73cd9fcb594f180a6c78  OFFER_TYPE_UNKNOWN                  NaN            NaN   \n",
       "387        UNKNOWN                 NaN      NaN  OFFER_CATEGORY_UNKNOWN         NaN  b1a939f6393903b077529e7d8e73d4f0  69dacdccd67e1f63c425b1a28e61bcc5              0  417899.0        NaN          NaN     DESKTOP                    NaN         NaN          NaN                   NaN  SEARCH_SHOW  1598374027000000                 NaN  b1a939f6393903b077529e7d8e73d4f0  OFFER_TYPE_UNKNOWN                  NaN            NaN   \n",
       "612    NEWBUILDING                 NaN      NaN  OFFER_CATEGORY_UNKNOWN         NaN  e0f2d84075d7fe9747460aded1af4c45  d536c1776753ea279173d933a0eb2621              0  741964.0        NaN          NaN     DESKTOP                    NaN         NaN          NaN                   NaN  SEARCH_SHOW  1598349867000000                 NaN  e0f2d84075d7fe9747460aded1af4c45  OFFER_TYPE_UNKNOWN                  NaN            NaN   \n",
       "613    NEWBUILDING                 NaN      NaN  OFFER_CATEGORY_UNKNOWN         NaN  e0f2d84075d7fe9747460aded1af4c45  d536c1776753ea279173d933a0eb2621              0  741964.0        NaN          NaN     DESKTOP                    NaN         NaN          NaN                   NaN  SEARCH_SHOW  1598349867000000                 NaN  e0f2d84075d7fe9747460aded1af4c45  OFFER_TYPE_UNKNOWN                  NaN            NaN   \n",
       "862        UNKNOWN                 NaN      NaN  OFFER_CATEGORY_UNKNOWN         NaN  54c7b24d1b1828590239e77fab6fad18  3a82c4ceec1eca5720fcdeec90351d63              0  417899.0        NaN          NaN     DESKTOP                    NaN         NaN          NaN                   NaN  SEARCH_SHOW  1598349170000000                 NaN  54c7b24d1b1828590239e77fab6fad18  OFFER_TYPE_UNKNOWN                  NaN            NaN   \n",
       "\n",
       "                                                                                                                                                                                                                                                                                                                                                                                                                                                                                                                                                                                                                                                                                                                                                                                                                                                                                                                                                                                                                                 web_referer  \\\n",
       "241                                                                                                                                                                                                                                                                                                                                                                                                                                                                                                                                                                                                                                                                                                                                                                                                                                                                                                                                                                  https://realty.yandex.ru/sankt-peterburg/snyat/kvartira/?from=main_menu   \n",
       "387  https://realty.yandex.ru/sankt-peterburg/snyat/kvartira/studiya,1-komnatnie/?nosplash=1&utm_source=wizard&utm_campaign=rent.large&utm_medium=flat&mapPolygon=59.96481%2C30.35463%3B59.96485%2C30.35473%3B59.96511%2C30.35481%3B59.96566%2C30.35447%3B59.96586%2C30.35423%3B59.96628%2C30.3534%3B59.96635%2C30.3524%3B59.96648%2C30.35187%3B59.9671%2C30.35113%3B59.96776%2C30.35094%3B59.96831%2C30.35062%3B59.96884%2C30.35054%3B59.97039%2C30.34923%3B59.97068%2C30.34909%3B59.97047%2C30.34711%3B59.9702%2C30.34655%3B59.96984%2C30.34625%3B59.96862%2C30.34621%3B59.96805%2C30.34651%3B59.96713%2C30.34725%3B59.96629%2C30.34756%3B59.96603%2C30.34756%3B59.96555%2C30.3474%3B59.96474%2C30.34744%3B59.96406%2C30.348%3B59.96304%2C30.34982%3B59.9628%2C30.35006%3B59.96191%2C30.35014%3B59.96164%2C30.35038%3B59.96017%2C30.35187%3B59.95962%2C30.35296%3B59.95952%2C30.35393%3B59.95957%2C30.35514%3B59.95973%2C30.35578%3B59.9601%2C30.35619%3B59.96088%2C30.35617%3B59.96161%2C30.35594%3B59.96316%2C30.35447%3B59.9635%2C30...   \n",
       "612                                                                                                                                                                                                                                                                                                                                                                                                                                                                                                                                                                                                                                                                                                                                                                                                                                                                       https://realty.yandex.ru/moskva_i_moskovskaya_oblast/kupit/novostrojka/dvuhkomnatnaya/metro-tushinskaya/?priceMax=7000000&deliveryDate=FINISHED&decoration=TURNKEY   \n",
       "613                                                                                                                                                                                                                                                                                                                                                                                                                                                                                                                                                                                                                                                                                                                                                                                                                                                                       https://realty.yandex.ru/moskva_i_moskovskaya_oblast/kupit/novostrojka/dvuhkomnatnaya/metro-tushinskaya/?priceMax=7000000&deliveryDate=FINISHED&decoration=TURNKEY   \n",
       "862                                                                                                                                                                                                                                                                                                                                                                                                                                                                                                                                                                                                                                                                                                                                                                                                                                                            https://realty.yandex.ru/sankt-peterburg/snyat/kvartira/?nosplash=1&from=wizard.offers&utm_source=wizard&utm_campaign=rent.large.personal_return_100.personal&utm_medium=flat   \n",
       "\n",
       "     offer_id          event_place  apartment_floor  village_id  page_number  sell_price  room_rooms_total  \n",
       "241       NaN              LISTING              NaN         NaN            0         NaN               NaN  \n",
       "387       NaN              LISTING              NaN         NaN            0         NaN               NaN  \n",
       "612       NaN  NEWBUILDING_LISTING              NaN         NaN            0         NaN               NaN  \n",
       "613       NaN  NEWBUILDING_LISTING              NaN         NaN            0         NaN               NaN  \n",
       "862       NaN              LISTING              NaN         NaN            0         NaN               NaN  "
      ]
     },
     "execution_count": 17,
     "metadata": {},
     "output_type": "execute_result"
    }
   ],
   "source": [
    "search_df[search_df['total_results']==0].head()"
   ]
  },
  {
   "cell_type": "markdown",
   "metadata": {},
   "source": [
    "#### For better insights, you can follow web_referer link and see search options on the website? "
   ]
  },
  {
   "cell_type": "code",
   "execution_count": 18,
   "metadata": {},
   "outputs": [
    {
     "name": "stdout",
     "output_type": "stream",
     "text": [
      "<class 'pandas.core.frame.DataFrame'>\n",
      "Int64Index: 354 entries, 241 to 77888\n",
      "Data columns (total 31 columns):\n",
      "card_view_type           354 non-null object\n",
      "room_rooms_offered       0 non-null float64\n",
      "site_id                  0 non-null float64\n",
      "offer_category           354 non-null object\n",
      "garage_type              0 non-null object\n",
      "query_text               354 non-null object\n",
      "anonymized_user_id       354 non-null object\n",
      "total_results            354 non-null int64\n",
      "rgid                     354 non-null float64\n",
      "house_type               0 non-null object\n",
      "primary_sale             0 non-null object\n",
      "client_type              354 non-null object\n",
      "apartment_rooms_total    0 non-null float64\n",
      "rent_price               0 non-null float64\n",
      "parking_type             0 non-null object\n",
      "apartment_total_area     0 non-null float64\n",
      "event_type               354 non-null object\n",
      "timestamp                354 non-null int64\n",
      "apartment_flat_type      0 non-null object\n",
      "query_id                 354 non-null object\n",
      "offer_type               354 non-null object\n",
      "commercial_type_list     0 non-null object\n",
      "pricing_period           0 non-null object\n",
      "web_referer              354 non-null object\n",
      "offer_id                 0 non-null float64\n",
      "event_place              354 non-null object\n",
      "apartment_floor          0 non-null float64\n",
      "village_id               0 non-null float64\n",
      "page_number              354 non-null int64\n",
      "sell_price               0 non-null float64\n",
      "room_rooms_total         0 non-null float64\n",
      "dtypes: float64(11), int64(3), object(17)\n",
      "memory usage: 88.5+ KB\n"
     ]
    }
   ],
   "source": [
    "search_df[search_df['total_results']==0].info()"
   ]
  },
  {
   "cell_type": "markdown",
   "metadata": {},
   "source": [
    "Reasons:\n",
    "\n",
    "1.input the wrong or none-exiexted address\n",
    "\n",
    "2.the The price entered is too large or too small"
   ]
  },
  {
   "cell_type": "markdown",
   "metadata": {},
   "source": [
    "## Let's analyze searches from different platforms, based on 1 session = query_id "
   ]
  },
  {
   "cell_type": "code",
   "execution_count": 19,
   "metadata": {},
   "outputs": [
    {
     "data": {
      "text/plain": [
       "<matplotlib.axes._subplots.AxesSubplot at 0x1f231756cc0>"
      ]
     },
     "execution_count": 19,
     "metadata": {},
     "output_type": "execute_result"
    },
    {
     "data": {
      "image/png": "[encoded data removed]",
      "text/plain": [
       "<Figure size 432x288 with 1 Axes>"
      ]
     },
     "metadata": {
      "needs_background": "light"
     },
     "output_type": "display_data"
    }
   ],
   "source": [
    "import seaborn as sns \n",
    "sns.countplot(search_df.groupby('query_id').first().client_type)"
   ]
  },
  {
   "cell_type": "code",
   "execution_count": 20,
   "metadata": {},
   "outputs": [
    {
     "data": {
      "text/plain": [
       "DESKTOP        0.501585\n",
       "TOUCH_PHONE    0.473428\n",
       "TOUCH_PAD      0.024987\n",
       "Name: client_type, dtype: float64"
      ]
     },
     "execution_count": 20,
     "metadata": {},
     "output_type": "execute_result"
    }
   ],
   "source": [
    "search_df.groupby('query_id').first().client_type.value_counts(normalize = True)"
   ]
  },
  {
   "cell_type": "markdown",
   "metadata": {},
   "source": [
    "#### As we see 50% of searches made from Desktop "
   ]
  },
  {
   "cell_type": "markdown",
   "metadata": {},
   "source": [
    "## In-class discussion\n",
    "1. How analyzing logs can help product manager make decisions\n",
    "2. Share what else you can do with this Yandex.Realty log to gain insights"
   ]
  },
  {
   "cell_type": "markdown",
   "metadata": {},
   "source": [
    "## Self-control stops"
   ]
  },
  {
   "cell_type": "markdown",
   "metadata": {},
   "source": [
    "1. Try to make a more detailed EDA (Exploratory Data Analysis) for better feature understanding\n",
    "2. Calculate % of searches which were finished with a phone call\n",
    "3. Calculate the average value for CARD_SHOW event for 1 session (query_id)\n",
    "4. Try to build 3 new metrics which will help you better understand user experience, calculate them and describe why they are so important\n"
   ]
  },
  {
   "cell_type": "markdown",
   "metadata": {},
   "source": [
    "## Exploration of categorical  variables"
   ]
  },
  {
   "cell_type": "code",
   "execution_count": 21,
   "metadata": {},
   "outputs": [],
   "source": [
    "data=df.copy()"
   ]
  },
  {
   "cell_type": "code",
   "execution_count": 22,
   "metadata": {},
   "outputs": [
    {
     "data": {
      "text/plain": [
       "USED              0.828209\n",
       "NEWBUILDING       0.123015\n",
       "NEW               0.040157\n",
       "COMMERCIAL        0.005256\n",
       "DEVELOPER_CARD    0.002854\n",
       "AGENCY_CARD       0.000509\n",
       "Name: card_view_type, dtype: float64"
      ]
     },
     "execution_count": 22,
     "metadata": {},
     "output_type": "execute_result"
    }
   ],
   "source": [
    "data[data['card_view_type']!='UNKNOWN']['card_view_type'].value_counts(normalize=True)#the majority realty card type is used"
   ]
  },
  {
   "cell_type": "code",
   "execution_count": 23,
   "metadata": {},
   "outputs": [
    {
     "data": {
      "text/plain": [
       "(array([0, 1, 2, 3, 4, 5]), <a list of 6 Text xticklabel objects>)"
      ]
     },
     "execution_count": 23,
     "metadata": {},
     "output_type": "execute_result"
    },
    {
     "data": {
      "image/png": "[encoded data removed]",
      "text/plain": [
       "<Figure size 432x288 with 1 Axes>"
      ]
     },
     "metadata": {
      "needs_background": "light"
     },
     "output_type": "display_data"
    }
   ],
   "source": [
    "sns.countplot(data[data['card_view_type']!='UNKNOWN']['card_view_type'])\n",
    "plt.xticks(rotation=45)"
   ]
  },
  {
   "cell_type": "markdown",
   "metadata": {},
   "source": [
    "the majority realty card type is used"
   ]
  },
  {
   "cell_type": "code",
   "execution_count": 24,
   "metadata": {},
   "outputs": [
    {
     "data": {
      "text/plain": [
       "1.0    1817\n",
       "2.0      39\n",
       "3.0      11\n",
       "7.0       3\n",
       "6.0       2\n",
       "5.0       1\n",
       "4.0       1\n",
       "Name: room_rooms_offered, dtype: int64"
      ]
     },
     "execution_count": 24,
     "metadata": {},
     "output_type": "execute_result"
    }
   ],
   "source": [
    "data['room_rooms_offered'].value_counts()#The fewer the number of rooms, the higher the frequency"
   ]
  },
  {
   "cell_type": "code",
   "execution_count": 25,
   "metadata": {},
   "outputs": [
    {
     "data": {
      "text/plain": [
       "<matplotlib.axes._subplots.AxesSubplot at 0x1f237b315c0>"
      ]
     },
     "execution_count": 25,
     "metadata": {},
     "output_type": "execute_result"
    },
    {
     "data": {
      "image/png": "[encoded data removed]",
      "text/plain": [
       "<Figure size 432x288 with 1 Axes>"
      ]
     },
     "metadata": {
      "needs_background": "light"
     },
     "output_type": "display_data"
    }
   ],
   "source": [
    "sns.countplot(data['room_rooms_offered'])"
   ]
  },
  {
   "cell_type": "markdown",
   "metadata": {},
   "source": [
    " As we see, the fewer the number of rooms, the higher the frequency"
   ]
  },
  {
   "cell_type": "code",
   "execution_count": 26,
   "metadata": {},
   "outputs": [
    {
     "name": "stdout",
     "output_type": "stream",
     "text": [
      "OFFER_CATEGORY_UNKNOWN    47522\n",
      "APARTMENT                 23226\n",
      "HOUSE                      3690\n",
      "ROOMS                      1874\n",
      "LOT                        1235\n",
      "COMMERCIAL                  854\n",
      "GARAGE                       35\n",
      "Name: offer_category, dtype: int64\n"
     ]
    },
    {
     "data": {
      "image/png": "[encoded data removed]",
      "text/plain": [
       "<Figure size 432x288 with 1 Axes>"
      ]
     },
     "metadata": {
      "needs_background": "light"
     },
     "output_type": "display_data"
    }
   ],
   "source": [
    "sns.countplot(data['offer_category'])\n",
    "plt.xticks(rotation=45)\n",
    "print(data['offer_category'].value_counts())"
   ]
  },
  {
   "cell_type": "markdown",
   "metadata": {},
   "source": [
    "Users have the greatest demand for apartments"
   ]
  },
  {
   "cell_type": "code",
   "execution_count": 27,
   "metadata": {},
   "outputs": [
    {
     "name": "stdout",
     "output_type": "stream",
     "text": [
      "DESKTOP        39348\n",
      "TOUCH_PHONE    37398\n",
      "TOUCH_PAD       1690\n",
      "Name: client_type, dtype: int64\n"
     ]
    },
    {
     "data": {
      "image/png": "[encoded data removed]",
      "text/plain": [
       "<Figure size 432x288 with 1 Axes>"
      ]
     },
     "metadata": {
      "needs_background": "light"
     },
     "output_type": "display_data"
    }
   ],
   "source": [
    "sns.countplot(data['client_type'])\n",
    "plt.xticks(rotation=45)\n",
    "print(data['client_type'].value_counts())"
   ]
  },
  {
   "cell_type": "markdown",
   "metadata": {},
   "source": [
    "There are almost as many users using desttops as those using touch-phones.The numeber of users using touch_pad is the smallest."
   ]
  },
  {
   "cell_type": "code",
   "execution_count": 28,
   "metadata": {},
   "outputs": [
    {
     "name": "stdout",
     "output_type": "stream",
     "text": [
      "LISTING                        38956\n",
      "CARD_TOP                       30535\n",
      "UNKNOWN                         4324\n",
      "NEWBUILDING_LISTING             2214\n",
      "NEWBUILDING_CARD_TOP            2136\n",
      "DEVELOPER_CARD_TOP               101\n",
      "VILLAGE_LISTING                   68\n",
      "PROFESSIONAL_SEARCH_LISTING       48\n",
      "CARD_RECOMMENDATIONS              20\n",
      "AGENCY_CARD_TOP                   18\n",
      "MAP                                8\n",
      "OTHER                              5\n",
      "NEWBUILDING_LISTING_PREMIUM        1\n",
      "DEVELOPER_CARD_OBJECTS             1\n",
      "NEWBUILDING_RECOMMENDATIONS        1\n",
      "Name: event_place, dtype: int64\n"
     ]
    },
    {
     "data": {
      "image/png": "[encoded data removed]",
      "text/plain": [
       "<Figure size 720x720 with 1 Axes>"
      ]
     },
     "metadata": {
      "needs_background": "light"
     },
     "output_type": "display_data"
    }
   ],
   "source": [
    "plt.figure(figsize=(10,10))\n",
    "sns.countplot(data['event_place'])\n",
    "plt.xticks(rotation=45)\n",
    "print(data['event_place'].value_counts())"
   ]
  },
  {
   "cell_type": "code",
   "execution_count": 29,
   "metadata": {},
   "outputs": [
    {
     "name": "stdout",
     "output_type": "stream",
     "text": [
      "FLAT_TYPE_SECONDARY        10734\n",
      "FLAT_TYPE_UNKNOWN           9155\n",
      "FLAT_TYPE_NEW_SECONDARY     1911\n",
      "FLAT_TYPE_NEW_FLAT          1426\n",
      "Name: apartment_flat_type, dtype: int64\n"
     ]
    },
    {
     "data": {
      "image/png": "[encoded data removed]",
      "text/plain": [
       "<Figure size 720x720 with 1 Axes>"
      ]
     },
     "metadata": {
      "needs_background": "light"
     },
     "output_type": "display_data"
    }
   ],
   "source": [
    "plt.figure(figsize=(10,10))\n",
    "sns.countplot(data['apartment_flat_type'])\n",
    "plt.xticks(rotation=45)\n",
    "print(data['apartment_flat_type'].value_counts())"
   ]
  },
  {
   "cell_type": "code",
   "execution_count": 30,
   "metadata": {},
   "outputs": [
    {
     "name": "stdout",
     "output_type": "stream",
     "text": [
      "OFFER_TYPE_UNKNOWN    47522\n",
      "SELL                  19450\n",
      "RENT                  11464\n",
      "Name: offer_type, dtype: int64\n"
     ]
    },
    {
     "data": {
      "image/png": "[encoded data removed]",
      "text/plain": [
       "<Figure size 720x720 with 1 Axes>"
      ]
     },
     "metadata": {
      "needs_background": "light"
     },
     "output_type": "display_data"
    }
   ],
   "source": [
    "plt.figure(figsize=(10,10))\n",
    "sns.countplot(data['offer_type'])\n",
    "plt.xticks(rotation=45)\n",
    "print(data['offer_type'].value_counts())"
   ]
  },
  {
   "cell_type": "markdown",
   "metadata": {},
   "source": [
    "##   Exploration of numerial  variables"
   ]
  },
  {
   "cell_type": "code",
   "execution_count": 31,
   "metadata": {},
   "outputs": [
    {
     "data": {
      "text/plain": [
       "count    1.146400e+04\n",
       "mean     3.271714e+04\n",
       "std      1.971363e+05\n",
       "min      5.000000e+02\n",
       "25%      1.500000e+04\n",
       "50%      2.000000e+04\n",
       "75%      2.600000e+04\n",
       "max      1.871700e+07\n",
       "Name: rent_price, dtype: float64"
      ]
     },
     "execution_count": 31,
     "metadata": {},
     "output_type": "execute_result"
    }
   ],
   "source": [
    "data['rent_price'].describe()"
   ]
  },
  {
   "cell_type": "code",
   "execution_count": 73,
   "metadata": {},
   "outputs": [
    {
     "name": "stdout",
     "output_type": "stream",
     "text": [
      "min: 500.0\n",
      "mean: 32717.14\n",
      "median: 20000.0\n",
      "maxi: 18717000.0\n"
     ]
    }
   ],
   "source": [
    "print('min: '+str(5.000000e+02))\n",
    "print('mean: '+str(3.271714e+04))    \n",
    "print('median: '+str(2.000000e+04))\n",
    "print('maxi: '+str(1.871700e+07))"
   ]
  },
  {
   "cell_type": "code",
   "execution_count": null,
   "metadata": {},
   "outputs": [],
   "source": []
  },
  {
   "cell_type": "code",
   "execution_count": 32,
   "metadata": {},
   "outputs": [
    {
     "data": {
      "image/png": "[encoded data removed]",
      "text/plain": [
       "<Figure size 1440x720 with 2 Axes>"
      ]
     },
     "metadata": {
      "needs_background": "light"
     },
     "output_type": "display_data"
    }
   ],
   "source": [
    "#Q-Q\n",
    "plt.figure(figsize=(20,10))\n",
    "ax=plt.subplot(1,2,1)\n",
    "sns.distplot(data['rent_price'].dropna(),fit=stats.norm)\n",
    "ax=plt.subplot(1,2,2)\n",
    "res=stats.probplot(data['rent_price'].dropna(),plot=plt)#'rent_price is not normal disreibution"
   ]
  },
  {
   "cell_type": "code",
   "execution_count": 33,
   "metadata": {},
   "outputs": [
    {
     "name": "stdout",
     "output_type": "stream",
     "text": [
      "Skewness: 76.684935\n",
      "Kurtosis: 7076.470887\n"
     ]
    }
   ],
   "source": [
    "print(\"Skewness: %f\" % data['rent_price'].skew())\n",
    "print(\"Kurtosis: %f\" % data['rent_price'].kurt())"
   ]
  },
  {
   "cell_type": "code",
   "execution_count": null,
   "metadata": {},
   "outputs": [],
   "source": []
  },
  {
   "cell_type": "code",
   "execution_count": 34,
   "metadata": {},
   "outputs": [
    {
     "data": {
      "text/plain": [
       "count    1.945000e+04\n",
       "mean     7.932650e+06\n",
       "std      2.428400e+07\n",
       "min      5.000000e+04\n",
       "25%      2.930000e+06\n",
       "50%      4.599000e+06\n",
       "75%      7.000000e+06\n",
       "max      6.868251e+08\n",
       "Name: sell_price, dtype: float64"
      ]
     },
     "execution_count": 34,
     "metadata": {},
     "output_type": "execute_result"
    }
   ],
   "source": [
    "data['sell_price'].describe()"
   ]
  },
  {
   "cell_type": "code",
   "execution_count": 74,
   "metadata": {},
   "outputs": [
    {
     "name": "stdout",
     "output_type": "stream",
     "text": [
      "min: 50000.0\n",
      "mean: 7932650.0\n",
      "median: 4599000.0\n",
      "maxi: 686825100.0\n"
     ]
    }
   ],
   "source": [
    "print('min: '+str(5.000000e+04))\n",
    "print('mean: '+str(7.932650e+06))    \n",
    "print('median: '+str(4.599000e+06))\n",
    "print('maxi: '+str(6.868251e+08))"
   ]
  },
  {
   "cell_type": "code",
   "execution_count": 35,
   "metadata": {},
   "outputs": [
    {
     "data": {
      "image/png": "[encoded data removed]",
      "text/plain": [
       "<Figure size 1440x720 with 2 Axes>"
      ]
     },
     "metadata": {
      "needs_background": "light"
     },
     "output_type": "display_data"
    }
   ],
   "source": [
    "#Q-Q\n",
    "plt.figure(figsize=(20,10))\n",
    "ax=plt.subplot(1,2,1)\n",
    "sns.distplot(data['sell_price'].dropna(),fit=stats.norm)\n",
    "ax=plt.subplot(1,2,2)\n",
    "res=stats.probplot(data['sell_price'].dropna(),plot=plt)#'sell_price is not normal disreibution"
   ]
  },
  {
   "cell_type": "code",
   "execution_count": 36,
   "metadata": {},
   "outputs": [
    {
     "data": {
      "text/plain": [
       "count     78436.000000\n",
       "mean       2454.341221\n",
       "std       11935.381593\n",
       "min           0.000000\n",
       "25%           0.000000\n",
       "50%          35.000000\n",
       "75%         897.000000\n",
       "max      645427.000000\n",
       "Name: total_results, dtype: float64"
      ]
     },
     "execution_count": 36,
     "metadata": {},
     "output_type": "execute_result"
    }
   ],
   "source": [
    "data['total_results'].describe()"
   ]
  },
  {
   "cell_type": "code",
   "execution_count": 37,
   "metadata": {},
   "outputs": [
    {
     "data": {
      "image/png": "[encoded data removed]",
      "text/plain": [
       "<Figure size 1440x720 with 2 Axes>"
      ]
     },
     "metadata": {
      "needs_background": "light"
     },
     "output_type": "display_data"
    }
   ],
   "source": [
    "#Q-Q\n",
    "plt.figure(figsize=(20,10))\n",
    "ax=plt.subplot(1,2,1)\n",
    "sns.distplot(data['total_results'].dropna(),fit=stats.norm)\n",
    "ax=plt.subplot(1,2,2)\n",
    "res=stats.probplot(data['total_results'].dropna(),plot=plt)#'total_results is not normal disreibution"
   ]
  },
  {
   "cell_type": "code",
   "execution_count": 38,
   "metadata": {},
   "outputs": [
    {
     "name": "stdout",
     "output_type": "stream",
     "text": [
      "Skewness: 35.984291\n",
      "Kurtosis: 1839.070758\n"
     ]
    }
   ],
   "source": [
    "print(\"Skewness: %f\" % data['total_results'].skew())\n",
    "print(\"Kurtosis: %f\" % data['total_results'].kurt())"
   ]
  },
  {
   "cell_type": "code",
   "execution_count": 39,
   "metadata": {},
   "outputs": [
    {
     "data": {
      "text/plain": [
       "count    23226.000000\n",
       "mean        50.767296\n",
       "std         33.977953\n",
       "min         12.000000\n",
       "25%         32.400002\n",
       "50%         42.200001\n",
       "75%         58.799999\n",
       "max        811.000000\n",
       "Name: apartment_total_area, dtype: float64"
      ]
     },
     "execution_count": 39,
     "metadata": {},
     "output_type": "execute_result"
    }
   ],
   "source": [
    "data['apartment_total_area'].describe()"
   ]
  },
  {
   "cell_type": "code",
   "execution_count": 40,
   "metadata": {},
   "outputs": [
    {
     "data": {
      "image/png": "[encoded data removed]",
      "text/plain": [
       "<Figure size 1440x720 with 2 Axes>"
      ]
     },
     "metadata": {
      "needs_background": "light"
     },
     "output_type": "display_data"
    }
   ],
   "source": [
    "#Q-Q\n",
    "plt.figure(figsize=(20,10))\n",
    "ax=plt.subplot(1,2,1)\n",
    "sns.distplot(data['apartment_total_area'].dropna(),fit=stats.norm)\n",
    "ax=plt.subplot(1,2,2)\n",
    "res=stats.probplot(data['apartment_total_area'].dropna(),plot=plt)"
   ]
  },
  {
   "cell_type": "code",
   "execution_count": 41,
   "metadata": {},
   "outputs": [
    {
     "name": "stdout",
     "output_type": "stream",
     "text": [
      "Skewness: 5.135358\n",
      "Kurtosis: 52.278742\n"
     ]
    }
   ],
   "source": [
    "print(\"Skewness: %f\" % data['apartment_total_area'].skew())\n",
    "print(\"Kurtosis: %f\" % data['apartment_total_area'].kurt())"
   ]
  },
  {
   "cell_type": "markdown",
   "metadata": {},
   "source": [
    "### As we see, apartment_total_area,reent_price ,and Total_results are not normal disreibution"
   ]
  },
  {
   "cell_type": "code",
   "execution_count": null,
   "metadata": {},
   "outputs": [],
   "source": []
  },
  {
   "cell_type": "code",
   "execution_count": 42,
   "metadata": {},
   "outputs": [],
   "source": [
    "numeral=pd.concat([data['rent_price'],data['apartment_total_area'],data['total_results']],axis=1).dropna()"
   ]
  },
  {
   "cell_type": "code",
   "execution_count": 43,
   "metadata": {},
   "outputs": [
    {
     "data": {
      "text/plain": [
       "count    9155.0\n",
       "mean        0.0\n",
       "std         0.0\n",
       "min         0.0\n",
       "25%         0.0\n",
       "50%         0.0\n",
       "75%         0.0\n",
       "max         0.0\n",
       "Name: total_results, dtype: float64"
      ]
     },
     "execution_count": 43,
     "metadata": {},
     "output_type": "execute_result"
    }
   ],
   "source": [
    "numeral['total_results'].describe()"
   ]
  },
  {
   "cell_type": "code",
   "execution_count": 44,
   "metadata": {},
   "outputs": [
    {
     "data": {
      "text/plain": [
       "count    9.155000e+03\n",
       "mean     2.501658e+04\n",
       "std      3.458428e+04\n",
       "min      7.000000e+02\n",
       "25%      1.700000e+04\n",
       "50%      2.000000e+04\n",
       "75%      2.600000e+04\n",
       "max      1.713790e+06\n",
       "Name: rent_price, dtype: float64"
      ]
     },
     "execution_count": 44,
     "metadata": {},
     "output_type": "execute_result"
    }
   ],
   "source": [
    "numeral['rent_price'].describe()"
   ]
  },
  {
   "cell_type": "code",
   "execution_count": 45,
   "metadata": {},
   "outputs": [
    {
     "data": {
      "text/plain": [
       "count    9155.000000\n",
       "mean       42.015373\n",
       "std        24.278439\n",
       "min        12.000000\n",
       "25%        30.000000\n",
       "50%        37.000000\n",
       "75%        46.000000\n",
       "max       811.000000\n",
       "Name: apartment_total_area, dtype: float64"
      ]
     },
     "execution_count": 45,
     "metadata": {},
     "output_type": "execute_result"
    }
   ],
   "source": [
    "numeral['apartment_total_area'].describe()"
   ]
  },
  {
   "cell_type": "code",
   "execution_count": 46,
   "metadata": {},
   "outputs": [
    {
     "data": {
      "text/plain": [
       "<matplotlib.axes._subplots.AxesSubplot at 0x1f238828cf8>"
      ]
     },
     "execution_count": 46,
     "metadata": {},
     "output_type": "execute_result"
    },
    {
     "data": {
      "image/png": "[encoded data removed]",
      "text/plain": [
       "<Figure size 1440x1152 with 2 Axes>"
      ]
     },
     "metadata": {
      "needs_background": "light"
     },
     "output_type": "display_data"
    }
   ],
   "source": [
    "plt.subplots(figsize=(20,16))\n",
    "sns.heatmap(numeral.corr(),vmax=8,square=True,annot=True)"
   ]
  },
  {
   "cell_type": "markdown",
   "metadata": {},
   "source": [
    "When the total_reult is not 0, there is no information of rent price and apartment total area.Apartment total area and rent price are positively correlated"
   ]
  },
  {
   "cell_type": "markdown",
   "metadata": {},
   "source": [
    "## Self-control stops"
   ]
  },
  {
   "cell_type": "markdown",
   "metadata": {},
   "source": [
    "1. Try to make a more detailed EDA (Exploratory Data Analysis) for better feature understanding\n",
    "2. Calculate % of searches which were finished with a phone call\n",
    "3. Calculate the average value for CARD_SHOW event for 1 session (query_id)\n",
    "4. Try to build 3 new metrics which will help you better understand user experience, calculate them and describe why they are so important"
   ]
  },
  {
   "cell_type": "markdown",
   "metadata": {},
   "source": [
    "### 2.Calculate % of searches which were finished with a phone call"
   ]
  },
  {
   "cell_type": "code",
   "execution_count": 47,
   "metadata": {},
   "outputs": [
    {
     "data": {
      "text/plain": [
       "SEARCH_SHOW    0.576942\n",
       "CARD_SHOW      0.410003\n",
       "PHONE_SHOW     0.013055\n",
       "Name: event_type, dtype: float64"
      ]
     },
     "execution_count": 47,
     "metadata": {},
     "output_type": "execute_result"
    }
   ],
   "source": [
    "#Calculate % of searches which were finished with a phone call\n",
    "df['event_type'].value_counts(normalize=True)"
   ]
  },
  {
   "cell_type": "markdown",
   "metadata": {},
   "source": [
    "### 3. Calculate the average value for CARD_SHOW event for 1 session (query_id)"
   ]
  },
  {
   "cell_type": "code",
   "execution_count": 48,
   "metadata": {},
   "outputs": [
    {
     "data": {
      "text/plain": [
       "0.8595079769039214"
      ]
     },
     "execution_count": 48,
     "metadata": {},
     "output_type": "execute_result"
    }
   ],
   "source": [
    "#the average value for CARD_SHOW event for 1 session (query_id)\n",
    "\n",
    "len(card_show_df.drop_duplicates())/len(data['query_id'].drop_duplicates())"
   ]
  },
  {
   "cell_type": "markdown",
   "metadata": {},
   "source": [
    "### Try to build 3 new metrics which will help you better understand user experience, calculate them and describe why they are so important"
   ]
  },
  {
   "cell_type": "markdown",
   "metadata": {},
   "source": [
    "metrics 1  Percentage of reused users"
   ]
  },
  {
   "cell_type": "code",
   "execution_count": 75,
   "metadata": {},
   "outputs": [
    {
     "data": {
      "text/plain": [
       "0.5341042378499669"
      ]
     },
     "execution_count": 75,
     "metadata": {},
     "output_type": "execute_result"
    }
   ],
   "source": [
    "len(data[data['query_id'].duplicated()==True])/len(data['query_id'])"
   ]
  },
  {
   "cell_type": "markdown",
   "metadata": {},
   "source": [
    "Metrics 2 :Average total_results(quantity of results for 1 query)  for per user ."
   ]
  },
  {
   "cell_type": "code",
   "execution_count": 63,
   "metadata": {},
   "outputs": [
    {
     "data": {
      "text/plain": [
       "4501.141980760509"
      ]
     },
     "execution_count": 63,
     "metadata": {},
     "output_type": "execute_result"
    }
   ],
   "source": [
    "sum(data.drop_duplicates()['total_results'])/len(data[data['query_id'].duplicated()==True])"
   ]
  },
  {
   "cell_type": "markdown",
   "metadata": {},
   "source": [
    "Metrics3: Proportion of total_results=0(quantity of results for 1 query is 0)"
   ]
  },
  {
   "cell_type": "code",
   "execution_count": null,
   "metadata": {},
   "outputs": [],
   "source": []
  },
  {
   "cell_type": "code",
   "execution_count": 68,
   "metadata": {},
   "outputs": [
    {
     "data": {
      "text/plain": [
       "0.4275715232801265"
      ]
     },
     "execution_count": 68,
     "metadata": {},
     "output_type": "execute_result"
    }
   ],
   "source": [
    "len(data[data['total_results']==0])/len(data)"
   ]
  },
  {
   "cell_type": "markdown",
   "metadata": {},
   "source": [
    "## Self-control stops\n",
    "\n",
    "### 1. Try to make a more detailed EDA (Exploratory Data Analysis) for better feature understanding\n",
    "\n",
    "Insights:\n",
    "\n",
    "1.The majority realty card type is used.\n",
    "2.The fewer the number of rooms, the higher the frequency\n",
    "3.There are almost as many users using desttops as those using touch-phones.The numeber of users using touch_pad is the smallest.\n",
    "4.The most frequent event_places are listing and card-top\n",
    "5.rent_price: min=500.0 mean=32717.14 median=20000.0,max=18717000.0 (not normal distribution)\n",
    "6.sell_price:min=50000.0 mean=7932650.0 median=4599000.0 max=686825100.0 (not normal distribution)\n",
    "7.total_results: min=0,mean=2454.34,median=35,max=645427(not normal distribution)\n",
    "\n",
    "### 2. Calculate % of searches which were finished with a phone call\n",
    "\n",
    "Answer:1.3055%\n",
    "\n",
    "### 3. Calculate the average value for CARD_SHOW event for 1 session (query_id)\n",
    "\n",
    "Answer:0.8595079769039214\n",
    "\n",
    "### 4. Try to build 3 new metrics which will help you better understand user experience, calculate them and describe why they are so important\n",
    "\n",
    "\n",
    "Metrics 1 :Percentage of reused users. \n",
    "\n",
    "The higher the proportion, the users are more to reused Realty and teh better user experience\n",
    "\n",
    "len(data[data['query_id'].duplicated()==True])/len(data) =0.5341=53.41%\n",
    "\n",
    "Metrics 2 :Average total_results(quantity of results for 1 query)  for per user .\n",
    "\n",
    "User experience is related quantity of results for 1 query. The higher the metric, the more information each user gets, and the better the experience.\n",
    "\n",
    "sum(data.drop_duplicates()['total_results'])/len(data[data['query_id'].duplicated()==True])=4501.1498\n",
    "\n",
    "Metrics3: Proportion of total_results=0(quantity of results for 1 query is 0)\n",
    "\n",
    "This metrics reflects the possibility that the user's query result is 0. The higher this metrics, the worse the user experience.\n",
    "\n",
    "len(data[data['total_results']==0])/len(data)=0.4276=42.76%\n"
   ]
  },
  {
   "cell_type": "code",
   "execution_count": null,
   "metadata": {},
   "outputs": [],
   "source": []
  },
  {
   "cell_type": "code",
   "execution_count": null,
   "metadata": {},
   "outputs": [],
   "source": []
  },
  {
   "cell_type": "code",
   "execution_count": null,
   "metadata": {},
   "outputs": [],
   "source": []
  },
  {
   "cell_type": "code",
   "execution_count": null,
   "metadata": {},
   "outputs": [],
   "source": []
  }
 ],
 "metadata": {
  "kernelspec": {
   "display_name": "Python 3",
   "language": "python",
   "name": "python3"
  },
  "language_info": {
   "codemirror_mode": {
    "name": "ipython",
    "version": 3
   },
   "file_extension": ".py",
   "mimetype": "text/x-python",
   "name": "python",
   "nbconvert_exporter": "python",
   "pygments_lexer": "ipython3",
   "version": "3.7.3"
  }
 },
 "nbformat": 4,
 "nbformat_minor": 4
}
